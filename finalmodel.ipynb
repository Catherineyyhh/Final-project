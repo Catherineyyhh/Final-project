{
 "cells": [
  {
   "cell_type": "markdown",
   "id": "eebe1854",
   "metadata": {},
   "source": [
    "# AR(1) method training\n",
    "\n",
    "## For 1 month model"
   ]
  },
  {
   "cell_type": "code",
   "execution_count": 1,
   "id": "24ec1c8c",
   "metadata": {},
   "outputs": [],
   "source": [
    "import pandas as pd\n",
    "import numpy as np\n",
    "from sklearn.linear_model import LinearRegression\n",
    "from sklearn.metrics import mean_squared_error\n",
    "import matplotlib.pyplot as plt\n",
    "from statsmodels.tsa.ar_model import AutoReg"
   ]
  },
  {
   "cell_type": "code",
   "execution_count": 2,
   "id": "f4dcc368",
   "metadata": {},
   "outputs": [],
   "source": [
    "# Load the data\n",
    "url = \"https://github.com/zhentaoshi/Econ5821/raw/main/data_example/US_PCE_training.xlsx\"\n",
    "df = pd.read_excel(url, header=None)\n",
    "df = df.drop(df.columns[0], axis=1)\n",
    "df = df.T"
   ]
  },
  {
   "cell_type": "code",
   "execution_count": 3,
   "id": "fc3f6c4c",
   "metadata": {},
   "outputs": [],
   "source": [
    "# Compute the inflation rate\n",
    "df.iloc[:, 1] = (np.log(df.iloc[:, 1]) - np.log(df.iloc[:, 1].shift(1))) * 12"
   ]
  },
  {
   "cell_type": "code",
   "execution_count": 4,
   "id": "c433d66d",
   "metadata": {},
   "outputs": [],
   "source": [
    "# Transform the predictors\n",
    "for i in range(5, df.shape[1]):\n",
    "    df.iloc[:, i] = (np.log(df.iloc[:, i]) - np.log(df.iloc[:, i].shift(1))) * 12"
   ]
  },
  {
   "cell_type": "code",
   "execution_count": 5,
   "id": "4ffd983e",
   "metadata": {},
   "outputs": [],
   "source": [
    "# Prepare the data for machine learning\n",
    "X = df.iloc[:, 5:].T\n",
    "y = df.iloc[:, 1]"
   ]
  },
  {
   "cell_type": "code",
   "execution_count": 6,
   "id": "d210c7df",
   "metadata": {},
   "outputs": [],
   "source": [
    "# Remove the first row as it contains NaN\n",
    "X = X.iloc[:, 1:]\n",
    "y = y.iloc[1:]"
   ]
  },
  {
   "cell_type": "code",
   "execution_count": 7,
   "id": "ceee8f30",
   "metadata": {},
   "outputs": [
    {
     "name": "stdout",
     "output_type": "stream",
     "text": [
      "Mean Squared Error: 0.0001811770840277184\n",
      "Mean Squared Error: 0.0002538879050745956\n",
      "Mean Squared Error: 0.0008117440680446121\n",
      "Mean Squared Error: 0.0004755494735527069\n",
      "Mean Squared Error: 0.00381723110544419\n"
     ]
    }
   ],
   "source": [
    "# Implement time series cross-validation\n",
    "from sklearn.model_selection import TimeSeriesSplit\n",
    "\n",
    "tscv = TimeSeriesSplit(n_splits=5)\n",
    "\n",
    "for train_index, test_index in tscv.split(X):\n",
    "    X_train, X_test = X.iloc[train_index], X.iloc[test_index]\n",
    "    y_train, y_test = y.iloc[train_index], y.iloc[test_index]\n",
    "\n",
    "    # Train an AR(1) model\n",
    "    model = AutoReg(y_train.values, lags=1)\n",
    "    model_fit = model.fit()\n",
    "\n",
    "    # Make predictions\n",
    "    y_pred = model_fit.predict(start=len(y_train), end=len(y_train)+len(y_test)-1, dynamic=False)\n",
    "\n",
    "    # Evaluate the model\n",
    "    mse = mean_squared_error(y_test, y_pred)\n",
    "    print(f\"Mean Squared Error: {mse}\")"
   ]
  },
  {
   "cell_type": "code",
   "execution_count": 8,
   "id": "78e653f9",
   "metadata": {},
   "outputs": [],
   "source": [
    "# Train the AR(1) model on the entire dataset\n",
    "model = AutoReg(y.values, lags=1)\n",
    "model_ar_1 = model.fit()"
   ]
  },
  {
   "cell_type": "markdown",
   "id": "0be8a66d",
   "metadata": {},
   "source": [
    "* Now the model can be used to forecast future inflation rates\n",
    "\n",
    "* For example, to predict the inflation rate for the next month given its predictors"
   ]
  },
  {
   "cell_type": "code",
   "execution_count": 9,
   "id": "d98daaa2",
   "metadata": {},
   "outputs": [
    {
     "name": "stdout",
     "output_type": "stream",
     "text": [
      "Forecast for 1 month ahead: [0.03252426]\n"
     ]
    }
   ],
   "source": [
    "# Forecast the inflation rate 1 month ahead\n",
    "forecast = model_ar_1.predict(start=len(y), end=len(y), dynamic=False)\n",
    "print(f\"Forecast for 1 month ahead: {forecast}\")"
   ]
  },
  {
   "cell_type": "markdown",
   "id": "e43f1b75",
   "metadata": {},
   "source": [
    "## For 3 month model"
   ]
  },
  {
   "cell_type": "code",
   "execution_count": 10,
   "id": "515ef624",
   "metadata": {},
   "outputs": [],
   "source": [
    "# Load the data\n",
    "url = \"https://github.com/zhentaoshi/Econ5821/raw/main/data_example/US_PCE_training.xlsx\"\n",
    "df = pd.read_excel(url, header=None)\n",
    "df = df.drop(df.columns[0], axis=1)\n",
    "df = df.T"
   ]
  },
  {
   "cell_type": "code",
   "execution_count": 11,
   "id": "c1d57a9d",
   "metadata": {},
   "outputs": [],
   "source": [
    "# Compute the inflation rate\n",
    "df.iloc[:, 1] = (np.log(df.iloc[:, 1]) - np.log(df.iloc[:, 1].shift(1))) * 12"
   ]
  },
  {
   "cell_type": "code",
   "execution_count": 12,
   "id": "446b29b2",
   "metadata": {},
   "outputs": [],
   "source": [
    "# Transform the predictors\n",
    "for i in range(5, df.shape[1]):\n",
    "    df.iloc[:, i] = (np.log(df.iloc[:, i]) - np.log(df.iloc[:, i].shift(1))) * 12"
   ]
  },
  {
   "cell_type": "code",
   "execution_count": 13,
   "id": "18628511",
   "metadata": {},
   "outputs": [],
   "source": [
    "# Prepare the data for machine learning\n",
    "X = df.iloc[:, 5:].T\n",
    "y = df.iloc[:, 1]"
   ]
  },
  {
   "cell_type": "code",
   "execution_count": 14,
   "id": "0ee50712",
   "metadata": {},
   "outputs": [],
   "source": [
    "# Shift y 3 months ahead\n",
    "y = y.shift(-3)"
   ]
  },
  {
   "cell_type": "code",
   "execution_count": 15,
   "id": "d199413e",
   "metadata": {},
   "outputs": [],
   "source": [
    "# Remove the last 3 rows as they contain NaN\n",
    "X = X.iloc[:, 1:-3]\n",
    "y = y.iloc[1:-3]"
   ]
  },
  {
   "cell_type": "code",
   "execution_count": 16,
   "id": "8815014a",
   "metadata": {},
   "outputs": [
    {
     "name": "stdout",
     "output_type": "stream",
     "text": [
      "Mean Squared Error: 0.00016874668123816974\n",
      "Mean Squared Error: 0.00029500747338626364\n",
      "Mean Squared Error: 0.0007770341209473035\n",
      "Mean Squared Error: 0.0006612665985256351\n",
      "Mean Squared Error: 0.003547166157278783\n"
     ]
    }
   ],
   "source": [
    "# Implement time series cross-validation\n",
    "tscv = TimeSeriesSplit(n_splits=5)\n",
    "\n",
    "for train_index, test_index in tscv.split(X):\n",
    "    X_train, X_test = X.iloc[train_index], X.iloc[test_index]\n",
    "    y_train, y_test = y.iloc[train_index], y.iloc[test_index]\n",
    "\n",
    "    # Train an AR(1) model\n",
    "    model = AutoReg(y_train.values, lags=1)\n",
    "    model_fit = model.fit()\n",
    "\n",
    "    # Make predictions\n",
    "    y_pred = model_fit.predict(start=len(y_train), end=len(y_train)+len(y_test)-1, dynamic=False)\n",
    "\n",
    "    # Evaluate the model\n",
    "    mse = mean_squared_error(y_test, y_pred)\n",
    "    print(f\"Mean Squared Error: {mse}\")"
   ]
  },
  {
   "cell_type": "code",
   "execution_count": 17,
   "id": "5d74900b",
   "metadata": {},
   "outputs": [],
   "source": [
    "# Train the AR(1) model on the entire dataset\n",
    "model = AutoReg(y.values, lags=1)\n",
    "model_ar_3 = model.fit()"
   ]
  },
  {
   "cell_type": "markdown",
   "id": "59bcd304",
   "metadata": {},
   "source": [
    "* Now the model can be used to forecast future inflation rates\n",
    "\n",
    "* For example, to predict the inflation rate for the next quarter given its predictors"
   ]
  },
  {
   "cell_type": "code",
   "execution_count": 18,
   "id": "cc6ff8c4",
   "metadata": {},
   "outputs": [
    {
     "name": "stdout",
     "output_type": "stream",
     "text": [
      "Forecast for 3 months ahead: 0.032202563663067445\n"
     ]
    }
   ],
   "source": [
    "# Forecast the inflation rate 3 months ahead\n",
    "forecast = model_ar_3.predict(start=len(y), end=len(y)+2, dynamic=False)\n",
    "print(f\"Forecast for 3 months ahead: {forecast[-1]}\")"
   ]
  },
  {
   "cell_type": "markdown",
   "id": "f695a86a",
   "metadata": {},
   "source": [
    "## For 12 month model"
   ]
  },
  {
   "cell_type": "code",
   "execution_count": 19,
   "id": "353ebb32",
   "metadata": {},
   "outputs": [],
   "source": [
    "# Load the data\n",
    "url = \"https://github.com/zhentaoshi/Econ5821/raw/main/data_example/US_PCE_training.xlsx\"\n",
    "df = pd.read_excel(url, header=None)\n",
    "df = df.drop(df.columns[0], axis=1)\n",
    "df = df.T"
   ]
  },
  {
   "cell_type": "code",
   "execution_count": 20,
   "id": "6239920b",
   "metadata": {},
   "outputs": [],
   "source": [
    "# Compute the inflation rate\n",
    "df.iloc[:, 1] = (np.log(df.iloc[:, 1]) - np.log(df.iloc[:, 1].shift(1))) * 12"
   ]
  },
  {
   "cell_type": "code",
   "execution_count": 21,
   "id": "ecbef16c",
   "metadata": {},
   "outputs": [],
   "source": [
    "# Transform the predictors\n",
    "for i in range(5, df.shape[1]):\n",
    "    df.iloc[:, i] = (np.log(df.iloc[:, i]) - np.log(df.iloc[:, i].shift(1))) * 12"
   ]
  },
  {
   "cell_type": "code",
   "execution_count": 22,
   "id": "1784adb3",
   "metadata": {},
   "outputs": [],
   "source": [
    "# Prepare the data for machine learning\n",
    "X = df.iloc[:, 5:].T\n",
    "y = df.iloc[:, 1]"
   ]
  },
  {
   "cell_type": "code",
   "execution_count": 23,
   "id": "4d8a6c65",
   "metadata": {},
   "outputs": [],
   "source": [
    "# Shift y 12 months ahead\n",
    "y = y.shift(-12)"
   ]
  },
  {
   "cell_type": "code",
   "execution_count": 24,
   "id": "8e6deb66",
   "metadata": {},
   "outputs": [],
   "source": [
    "# Remove the last 12 rows as they contain NaN\n",
    "X = X.iloc[:, 1:-12]\n",
    "y = y.iloc[1:-12]"
   ]
  },
  {
   "cell_type": "code",
   "execution_count": 25,
   "id": "da5a6925",
   "metadata": {},
   "outputs": [
    {
     "name": "stdout",
     "output_type": "stream",
     "text": [
      "Mean Squared Error: 0.00010239409494070976\n",
      "Mean Squared Error: 0.0004937425872471006\n",
      "Mean Squared Error: 0.0007412711984037616\n",
      "Mean Squared Error: 0.002188092945199966\n",
      "Mean Squared Error: 0.0011927727129309913\n"
     ]
    }
   ],
   "source": [
    "# Implement time series cross-validation\n",
    "tscv = TimeSeriesSplit(n_splits=5)\n",
    "\n",
    "for train_index, test_index in tscv.split(X):\n",
    "    X_train, X_test = X.iloc[train_index], X.iloc[test_index]\n",
    "    y_train, y_test = y.iloc[train_index], y.iloc[test_index]\n",
    "\n",
    "    # Train an AR(1) model\n",
    "    model = AutoReg(y_train.values, lags=1)\n",
    "    model_fit = model.fit()\n",
    "\n",
    "    # Make predictions\n",
    "    y_pred = model_fit.predict(start=len(y_train), end=len(y_train)+len(y_test)-1, dynamic=False)\n",
    "\n",
    "    # Evaluate the model\n",
    "    mse = mean_squared_error(y_test, y_pred)\n",
    "    print(f\"Mean Squared Error: {mse}\")\n"
   ]
  },
  {
   "cell_type": "code",
   "execution_count": 26,
   "id": "358c2a02",
   "metadata": {},
   "outputs": [],
   "source": [
    "# Train the AR(1) model on the entire dataset\n",
    "model = AutoReg(y.values, lags=1)\n",
    "model_ar_12 = model.fit()"
   ]
  },
  {
   "cell_type": "markdown",
   "id": "3f8798b1",
   "metadata": {},
   "source": [
    "* Now we get the model_ar_12\n",
    "\n",
    "* The model can be used to forecast future inflation rates\n",
    "\n",
    "* For example, to predict the inflation rate for the next year given its predictors"
   ]
  },
  {
   "cell_type": "code",
   "execution_count": 27,
   "id": "e516dee9",
   "metadata": {},
   "outputs": [
    {
     "name": "stdout",
     "output_type": "stream",
     "text": [
      "Forecast for 12 months ahead: 0.0320111244775863\n"
     ]
    }
   ],
   "source": [
    "# Forecast the inflation rate 12 months ahead\n",
    "forecast = model_ar_12.predict(start=len(y), end=len(y)+11, dynamic=False)\n",
    "print(f\"Forecast for 12 months ahead: {forecast[-1]}\")"
   ]
  },
  {
   "cell_type": "markdown",
   "id": "d8c44767",
   "metadata": {},
   "source": [
    "# LASSO metheod training\n",
    "\n",
    "## For 1 month model"
   ]
  },
  {
   "cell_type": "code",
   "execution_count": 28,
   "id": "32afd38a",
   "metadata": {},
   "outputs": [],
   "source": [
    "import pandas as pd\n",
    "import numpy as np\n",
    "from sklearn.linear_model import LassoCV\n",
    "from sklearn.metrics import mean_squared_error\n",
    "from sklearn.model_selection import TimeSeriesSplit\n",
    "import math"
   ]
  },
  {
   "cell_type": "code",
   "execution_count": 29,
   "id": "4af6de21",
   "metadata": {},
   "outputs": [],
   "source": [
    "# Load the data\n",
    "url = \"https://github.com/zhentaoshi/Econ5821/raw/main/data_example/US_PCE_training.xlsx\"\n",
    "df = pd.read_excel(url, header=None)\n",
    "df = df.drop(df.columns[0], axis=1)\n",
    "df = df.T"
   ]
  },
  {
   "cell_type": "code",
   "execution_count": 30,
   "id": "84b1df8c",
   "metadata": {},
   "outputs": [],
   "source": [
    "# Compute the inflation rate\n",
    "df.iloc[:, 1] = (np.log(df.iloc[:, 1]) - np.log(df.iloc[:, 1].shift(1))) * 12"
   ]
  },
  {
   "cell_type": "code",
   "execution_count": 31,
   "id": "064f9779",
   "metadata": {},
   "outputs": [],
   "source": [
    "# Transform the predictors into log difference\n",
    "for i in range(5, df.shape[1]):\n",
    "    df.iloc[:, i] = (np.log(df.iloc[:, i]) - np.log(df.iloc[:, i].shift(1))) * 12"
   ]
  },
  {
   "cell_type": "code",
   "execution_count": 32,
   "id": "adf70c5b",
   "metadata": {},
   "outputs": [],
   "source": [
    "# Prepare the data for machine learning\n",
    "X = df.iloc[:, 5:]\n",
    "y = df.iloc[:, 1]"
   ]
  },
  {
   "cell_type": "code",
   "execution_count": 33,
   "id": "614d3fe6",
   "metadata": {},
   "outputs": [],
   "source": [
    "# Remove the first row (NaN value due to the shift operation)\n",
    "X = X.iloc[1:]\n",
    "y = y.iloc[1:]"
   ]
  },
  {
   "cell_type": "code",
   "execution_count": 34,
   "id": "b3b3636d",
   "metadata": {},
   "outputs": [],
   "source": [
    "# Implement a time series split for cross-validation\n",
    "tscv = TimeSeriesSplit(n_splits=5)"
   ]
  },
  {
   "cell_type": "code",
   "execution_count": 35,
   "id": "69fe0e21",
   "metadata": {},
   "outputs": [],
   "source": [
    "# Train a LASSO regression model\n",
    "model = LassoCV(cv=tscv)\n",
    "model_lasso_1 = model.fit(X, y)"
   ]
  },
  {
   "cell_type": "markdown",
   "id": "496bd9df",
   "metadata": {},
   "source": [
    "* Now, we get the model, then we use MSE to evaluate the model"
   ]
  },
  {
   "cell_type": "code",
   "execution_count": 36,
   "id": "743ce0cd",
   "metadata": {},
   "outputs": [
    {
     "name": "stdout",
     "output_type": "stream",
     "text": [
      "Root Mean Squared Error: 0.003467640633310763\n"
     ]
    }
   ],
   "source": [
    "mse = mean_squared_error(y, model.predict(X))\n",
    "rmse = math.sqrt(mse)\n",
    "print(f\"Root Mean Squared Error: {rmse}\")"
   ]
  },
  {
   "cell_type": "markdown",
   "id": "6299d60e",
   "metadata": {},
   "source": [
    "* We can use the model to forecast future inflation rates\n",
    "\n",
    "* For example, to forecast the inflation rate for the next month given its predictors"
   ]
  },
  {
   "cell_type": "code",
   "execution_count": 37,
   "id": "dc274625",
   "metadata": {},
   "outputs": [
    {
     "name": "stdout",
     "output_type": "stream",
     "text": [
      "Forecasted inflation rate for the next month: 0.03449263811867629\n"
     ]
    }
   ],
   "source": [
    "next_month_predictors = X.iloc[-1].values.reshape(1, -1)\n",
    "next_month_inflation_rate = model_lasso_1.predict(next_month_predictors)\n",
    "print(f\"Forecasted inflation rate for the next month: {next_month_inflation_rate[0]}\")"
   ]
  },
  {
   "cell_type": "markdown",
   "id": "6061f70a",
   "metadata": {},
   "source": [
    "## For 3 month model"
   ]
  },
  {
   "cell_type": "code",
   "execution_count": 38,
   "id": "d832d9c9",
   "metadata": {},
   "outputs": [],
   "source": [
    "# Load the data\n",
    "url = \"https://github.com/zhentaoshi/Econ5821/raw/main/data_example/US_PCE_training.xlsx\"\n",
    "df = pd.read_excel(url, header=None)\n",
    "df = df.drop(df.columns[0], axis=1)\n",
    "df = df.T"
   ]
  },
  {
   "cell_type": "code",
   "execution_count": 39,
   "id": "5322920d",
   "metadata": {},
   "outputs": [],
   "source": [
    "# Compute the inflation rate\n",
    "df.iloc[:, 1] = (np.log(df.iloc[:, 1]) - np.log(df.iloc[:, 1].shift(1))) * 12"
   ]
  },
  {
   "cell_type": "code",
   "execution_count": 40,
   "id": "a6b2aeb3",
   "metadata": {},
   "outputs": [],
   "source": [
    "# Transform the predictors into log difference\n",
    "for i in range(5, df.shape[1]):\n",
    "    df.iloc[:, i] = (np.log(df.iloc[:, i]) - np.log(df.iloc[:, i].shift(1))) * 12"
   ]
  },
  {
   "cell_type": "code",
   "execution_count": 41,
   "id": "dc3266bc",
   "metadata": {},
   "outputs": [],
   "source": [
    "# Prepare the data for machine learning\n",
    "X = df.iloc[:, 5:]\n",
    "y = df.iloc[:, 1]"
   ]
  },
  {
   "cell_type": "code",
   "execution_count": 42,
   "id": "15ea538f",
   "metadata": {},
   "outputs": [],
   "source": [
    "# Shift the target variable 3 months into the future\n",
    "y = y.shift(-3)"
   ]
  },
  {
   "cell_type": "code",
   "execution_count": 43,
   "id": "4307cc4a",
   "metadata": {},
   "outputs": [],
   "source": [
    "# Remove the first row (NaN value due to the shift operation) and the last 3 rows (NaN values due to the shift operation on y)\n",
    "X = X.iloc[1:-3]\n",
    "y = y.iloc[1:-3]"
   ]
  },
  {
   "cell_type": "code",
   "execution_count": 44,
   "id": "f9f69100",
   "metadata": {},
   "outputs": [],
   "source": [
    "# Implement a time series split for cross-validation\n",
    "tscv = TimeSeriesSplit(n_splits=5)"
   ]
  },
  {
   "cell_type": "code",
   "execution_count": 45,
   "id": "f6bc50cb",
   "metadata": {},
   "outputs": [],
   "source": [
    "# Train a LASSO regression model\n",
    "model = LassoCV(cv=tscv, max_iter=10000)\n",
    "model_lasso_3 = model.fit(X, y)"
   ]
  },
  {
   "cell_type": "markdown",
   "id": "3f73e92a",
   "metadata": {},
   "source": [
    "* Now, we get the model, then we use MSE to evaluate the model"
   ]
  },
  {
   "cell_type": "code",
   "execution_count": 46,
   "id": "075dadf1",
   "metadata": {},
   "outputs": [
    {
     "name": "stdout",
     "output_type": "stream",
     "text": [
      "Root Mean Squared Error: 0.019214750942880412\n"
     ]
    }
   ],
   "source": [
    "mse = mean_squared_error(y, model.predict(X))\n",
    "rmse = math.sqrt(mse)\n",
    "print(f\"Root Mean Squared Error: {rmse}\")"
   ]
  },
  {
   "cell_type": "markdown",
   "id": "e706bc29",
   "metadata": {},
   "source": [
    "* We can use the model to forecast future inflation rates\n",
    "\n",
    "* For example, to forecast the inflation rate for the next quarter given its predictors"
   ]
  },
  {
   "cell_type": "code",
   "execution_count": 47,
   "id": "f16b84f5",
   "metadata": {},
   "outputs": [
    {
     "name": "stdout",
     "output_type": "stream",
     "text": [
      "Forecasted inflation rate for the 3rd month from the last month: 0.013062241924392695\n"
     ]
    }
   ],
   "source": [
    "third_month_predictors = X.iloc[-1].values.reshape(1, -1)\n",
    "third_month_inflation_rate = model_lasso_3.predict(third_month_predictors)\n",
    "print(f\"Forecasted inflation rate for the 3rd month from the last month: {third_month_inflation_rate[0]}\")"
   ]
  },
  {
   "cell_type": "markdown",
   "id": "000474c9",
   "metadata": {},
   "source": [
    "## For 12 month model"
   ]
  },
  {
   "cell_type": "code",
   "execution_count": 48,
   "id": "8e1e6d1b",
   "metadata": {},
   "outputs": [],
   "source": [
    "# Load the data\n",
    "url = \"https://github.com/zhentaoshi/Econ5821/raw/main/data_example/US_PCE_training.xlsx\"\n",
    "df = pd.read_excel(url, header=None)\n",
    "df = df.drop(df.columns[0], axis=1)\n",
    "df = df.T"
   ]
  },
  {
   "cell_type": "code",
   "execution_count": 49,
   "id": "928484f1",
   "metadata": {},
   "outputs": [],
   "source": [
    "# Compute the inflation rate\n",
    "df.iloc[:, 1] = (np.log(df.iloc[:, 1]) - np.log(df.iloc[:, 1].shift(1))) * 12"
   ]
  },
  {
   "cell_type": "code",
   "execution_count": 50,
   "id": "e5698594",
   "metadata": {},
   "outputs": [],
   "source": [
    "# Transform the predictors into log difference\n",
    "for i in range(5, df.shape[1]):\n",
    "    df.iloc[:, i] = (np.log(df.iloc[:, i]) - np.log(df.iloc[:, i].shift(1))) * 12"
   ]
  },
  {
   "cell_type": "code",
   "execution_count": 51,
   "id": "e798cba7",
   "metadata": {},
   "outputs": [],
   "source": [
    "# Prepare the data for machine learning\n",
    "X = df.iloc[:, 5:]\n",
    "y = df.iloc[:, 1]"
   ]
  },
  {
   "cell_type": "code",
   "execution_count": 52,
   "id": "586d9bba",
   "metadata": {},
   "outputs": [],
   "source": [
    "# Shift the target variable 12 months into the future\n",
    "y = y.shift(-12)"
   ]
  },
  {
   "cell_type": "code",
   "execution_count": 53,
   "id": "cf3af5b8",
   "metadata": {},
   "outputs": [],
   "source": [
    "# Remove the first row (NaN value due to the shift operation) and the last 12 rows (NaN values due to the shift operation on y)\n",
    "X = X.iloc[1:-12]\n",
    "y = y.iloc[1:-12]"
   ]
  },
  {
   "cell_type": "code",
   "execution_count": 54,
   "id": "88c23d6c",
   "metadata": {},
   "outputs": [],
   "source": [
    "# Implement a time series split for cross-validation\n",
    "tscv = TimeSeriesSplit(n_splits=5)"
   ]
  },
  {
   "cell_type": "code",
   "execution_count": 55,
   "id": "a4f51392",
   "metadata": {},
   "outputs": [],
   "source": [
    "# Train a LASSO regression model\n",
    "model = LassoCV(cv=tscv, max_iter=100000)\n",
    "model_lasso_12 = model.fit(X, y)"
   ]
  },
  {
   "cell_type": "markdown",
   "id": "f41e7c1a",
   "metadata": {},
   "source": [
    "* Now, we get the model, then we use MSE to evaluate the model"
   ]
  },
  {
   "cell_type": "code",
   "execution_count": 56,
   "id": "92e32323",
   "metadata": {},
   "outputs": [
    {
     "name": "stdout",
     "output_type": "stream",
     "text": [
      "Root Mean Squared Error: 0.02138442977286729\n"
     ]
    }
   ],
   "source": [
    "# Evaluate the model\n",
    "mse = mean_squared_error(y, model.predict(X))\n",
    "rmse = math.sqrt(mse)\n",
    "print(f\"Root Mean Squared Error: {rmse}\")"
   ]
  },
  {
   "cell_type": "markdown",
   "id": "22fc8679",
   "metadata": {},
   "source": [
    "* We can use the model to forecast future inflation rates\n",
    "\n",
    "* For example, to forecast the inflation rate for the next quarter given its predictors"
   ]
  },
  {
   "cell_type": "code",
   "execution_count": 57,
   "id": "39646769",
   "metadata": {},
   "outputs": [
    {
     "name": "stdout",
     "output_type": "stream",
     "text": [
      "Forecasted inflation rate for the 12th month from the last month: 0.026461630080543218\n"
     ]
    }
   ],
   "source": [
    "twelfth_month_predictors = X.iloc[-1].values.reshape(1, -1)\n",
    "twelfth_month_inflation_rate = model_lasso_12.predict(twelfth_month_predictors)\n",
    "print(f\"Forecasted inflation rate for the 12th month from the last month: {twelfth_month_inflation_rate[0]}\")"
   ]
  },
  {
   "cell_type": "markdown",
   "id": "15de5d9d",
   "metadata": {},
   "source": [
    "# Random forest method\n",
    "\n",
    "## For 1 month model"
   ]
  },
  {
   "cell_type": "code",
   "execution_count": 165,
   "id": "53924775",
   "metadata": {},
   "outputs": [],
   "source": [
    "import pandas as pd\n",
    "import numpy as np\n",
    "from sklearn.model_selection import TimeSeriesSplit\n",
    "from sklearn.ensemble import RandomForestRegressor\n",
    "from sklearn.metrics import mean_squared_error"
   ]
  },
  {
   "cell_type": "code",
   "execution_count": 176,
   "id": "2f0c0faf",
   "metadata": {},
   "outputs": [],
   "source": [
    "# Load the data\n",
    "url = \"https://github.com/zhentaoshi/Econ5821/raw/main/data_example/US_PCE_training.xlsx\"\n",
    "df = pd.read_excel(url, header=None)\n",
    "df = df.drop(df.columns[0], axis=1)\n",
    "df = df.T"
   ]
  },
  {
   "cell_type": "code",
   "execution_count": 181,
   "id": "43508310",
   "metadata": {},
   "outputs": [],
   "source": [
    "# Compute the inflation rate\n",
    "df.iloc[:, 1] = (np.log(df.iloc[:, 1]) - np.log(df.iloc[:, 1].shift(1))) * 12"
   ]
  },
  {
   "cell_type": "code",
   "execution_count": 182,
   "id": "d0f77d3b",
   "metadata": {},
   "outputs": [],
   "source": [
    "# Transform the predictors into log difference\n",
    "for i in range(5, df.shape[1]):\n",
    "    df.iloc[:, i] = (np.log(df.iloc[:, i]) - np.log(df.iloc[:, i].shift(1))) * 12"
   ]
  },
  {
   "cell_type": "code",
   "execution_count": 183,
   "id": "4030fa63",
   "metadata": {},
   "outputs": [],
   "source": [
    "# Prepare the data for machine learning\n",
    "X = df.iloc[:, 5:]\n",
    "y = df.iloc[:, 1]"
   ]
  },
  {
   "cell_type": "code",
   "execution_count": 184,
   "id": "629dd685",
   "metadata": {},
   "outputs": [],
   "source": [
    "# Remove the first row as it contains NaN due to the shift operation\n",
    "X = X.iloc[1:]\n",
    "y = y.iloc[1:]"
   ]
  },
  {
   "cell_type": "code",
   "execution_count": 185,
   "id": "d1024580",
   "metadata": {},
   "outputs": [
    {
     "name": "stdout",
     "output_type": "stream",
     "text": [
      "Mean Squared Error: 0.0011656305974605122\n",
      "Mean Squared Error: 0.0001886851944013001\n",
      "Mean Squared Error: 8.72955437799227e-05\n",
      "Mean Squared Error: 0.00039595540898014324\n",
      "Mean Squared Error: 3.626448610114312e-05\n"
     ]
    }
   ],
   "source": [
    "# Split the data into training and testing sets in a time series manner\n",
    "tscv = TimeSeriesSplit(n_splits=5)\n",
    "for train_index, test_index in tscv.split(X):\n",
    "    X_train, X_test = X.iloc[train_index], X.iloc[test_index]\n",
    "    y_train, y_test = y.iloc[train_index], y.iloc[test_index]\n",
    "\n",
    "    # Train a Random Forest model\n",
    "    model = RandomForestRegressor(n_estimators=100, random_state=42)\n",
    "    model_random_1 = model.fit(X_train, y_train)\n",
    "\n",
    "    # Evaluate the model\n",
    "    y_pred = model.predict(X_test)\n",
    "    mse = mean_squared_error(y_test, y_pred)\n",
    "    print(f\"Mean Squared Error: {mse}\")"
   ]
  },
  {
   "cell_type": "markdown",
   "id": "56e22685",
   "metadata": {},
   "source": [
    "* Now the model can be used to forecast future inflation rates\n",
    "\n",
    "* For example, to predict the inflation rate for the next month given its predictors"
   ]
  },
  {
   "cell_type": "code",
   "execution_count": 186,
   "id": "68c12194",
   "metadata": {},
   "outputs": [
    {
     "name": "stdout",
     "output_type": "stream",
     "text": [
      "Predicted inflation rate for next month: 0.030184702997194997\n"
     ]
    }
   ],
   "source": [
    "next_month_predictors = X.iloc[-1].values.reshape(1, -1)\n",
    "next_month_inflation_rate = model_random_1.predict(next_month_predictors)\n",
    "print(f\"Predicted inflation rate for next month: {next_month_inflation_rate[0]}\")"
   ]
  },
  {
   "cell_type": "markdown",
   "id": "5c4902ce",
   "metadata": {},
   "source": [
    "## For 3 month model"
   ]
  },
  {
   "cell_type": "code",
   "execution_count": 187,
   "id": "0c51ff2d",
   "metadata": {},
   "outputs": [],
   "source": [
    "# Shift the target variable three months back\n",
    "y = y.shift(-3)"
   ]
  },
  {
   "cell_type": "code",
   "execution_count": 188,
   "id": "3250f6bd",
   "metadata": {},
   "outputs": [],
   "source": [
    "# Remove the last three rows as they contain NaN due to the shift operation\n",
    "X = X.iloc[:-3]\n",
    "y = y.iloc[:-3]"
   ]
  },
  {
   "cell_type": "code",
   "execution_count": 189,
   "id": "adbe671a",
   "metadata": {},
   "outputs": [
    {
     "name": "stdout",
     "output_type": "stream",
     "text": [
      "Mean Squared Error: 0.0016547381380780564\n",
      "Mean Squared Error: 0.0005455901696460697\n",
      "Mean Squared Error: 0.0003150834250461282\n",
      "Mean Squared Error: 0.00111626967691056\n",
      "Mean Squared Error: 0.00033669143374951457\n"
     ]
    }
   ],
   "source": [
    "# Split the data into training and testing sets in a time series manner\n",
    "tscv = TimeSeriesSplit(n_splits=5)\n",
    "for train_index, test_index in tscv.split(X):\n",
    "    X_train, X_test = X.iloc[train_index], X.iloc[test_index]\n",
    "    y_train, y_test = y.iloc[train_index], y.iloc[test_index]\n",
    "\n",
    "    # Train a Random Forest model\n",
    "    model = RandomForestRegressor(n_estimators=100, random_state=42)\n",
    "    model_random_3 = model.fit(X_train, y_train)\n",
    "\n",
    "    # Evaluate the model\n",
    "    y_pred = model.predict(X_test)\n",
    "    mse = mean_squared_error(y_test, y_pred)\n",
    "    print(f\"Mean Squared Error: {mse}\")"
   ]
  },
  {
   "cell_type": "markdown",
   "id": "41f1f75e",
   "metadata": {},
   "source": [
    "* Now the model can be used to forecast future inflation rates\n",
    "\n",
    "* For example, to predict the inflation rate for the next quarter given its predictors"
   ]
  },
  {
   "cell_type": "code",
   "execution_count": 190,
   "id": "3815c297",
   "metadata": {},
   "outputs": [
    {
     "name": "stdout",
     "output_type": "stream",
     "text": [
      "Predicted inflation rate for next quarter: 0.011397978322821932\n"
     ]
    }
   ],
   "source": [
    "next_quarter_predictors = X.iloc[-1].values.reshape(1, -1)\n",
    "next_quarter_inflation_rate = model_random_3.predict(next_quarter_predictors)\n",
    "print(f\"Predicted inflation rate for next quarter: {next_quarter_inflation_rate[0]}\")"
   ]
  },
  {
   "cell_type": "markdown",
   "id": "1efa1988",
   "metadata": {},
   "source": [
    "## For 12 month model"
   ]
  },
  {
   "cell_type": "code",
   "execution_count": 191,
   "id": "defe18d0",
   "metadata": {},
   "outputs": [],
   "source": [
    "# Shift the target variable twelve months back\n",
    "y = y.shift(-12)"
   ]
  },
  {
   "cell_type": "code",
   "execution_count": 192,
   "id": "bc9f5da5",
   "metadata": {},
   "outputs": [],
   "source": [
    "# Remove the last twelve rows as they contain NaN due to the shift operation\n",
    "X = X.iloc[:-12]\n",
    "y = y.iloc[:-12]"
   ]
  },
  {
   "cell_type": "code",
   "execution_count": 193,
   "id": "83462691",
   "metadata": {},
   "outputs": [
    {
     "name": "stdout",
     "output_type": "stream",
     "text": [
      "Mean Squared Error: 0.002012329966294828\n",
      "Mean Squared Error: 0.0007226249082602667\n",
      "Mean Squared Error: 0.0004900612268844443\n",
      "Mean Squared Error: 0.0010109018769290366\n",
      "Mean Squared Error: 0.0003575531302877318\n"
     ]
    }
   ],
   "source": [
    "# Split the data into training and testing sets in a time series manner\n",
    "tscv = TimeSeriesSplit(n_splits=5)\n",
    "for train_index, test_index in tscv.split(X):\n",
    "    X_train, X_test = X.iloc[train_index], X.iloc[test_index]\n",
    "    y_train, y_test = y.iloc[train_index], y.iloc[test_index]\n",
    "\n",
    "    # Train a Random Forest model\n",
    "    model = RandomForestRegressor(n_estimators=100, random_state=42)\n",
    "    model_random_12 = model.fit(X_train, y_train)\n",
    "\n",
    "    # Evaluate the model\n",
    "    y_pred = model.predict(X_test)\n",
    "    mse = mean_squared_error(y_test, y_pred)\n",
    "    print(f\"Mean Squared Error: {mse}\")"
   ]
  },
  {
   "cell_type": "markdown",
   "id": "edc6015e",
   "metadata": {},
   "source": [
    "* Now the model can be used to forecast future inflation rates\n",
    "\n",
    "* For example, to predict the inflation rate for the next year given its predictors"
   ]
  },
  {
   "cell_type": "code",
   "execution_count": 194,
   "id": "8d3b2830",
   "metadata": {},
   "outputs": [
    {
     "name": "stdout",
     "output_type": "stream",
     "text": [
      "Predicted inflation rate for next year: 0.029919480961150775\n"
     ]
    }
   ],
   "source": [
    "next_year_predictors = X.iloc[-1].values.reshape(1, -1)\n",
    "next_year_inflation_rate = model_random_12.predict(next_year_predictors)\n",
    "print(f\"Predicted inflation rate for next year: {next_year_inflation_rate[0]}\")"
   ]
  },
  {
   "cell_type": "markdown",
   "id": "a50d2bd0",
   "metadata": {},
   "source": [
    "# Gradient boosting method\n",
    "\n",
    "## For 1 month model"
   ]
  },
  {
   "cell_type": "code",
   "execution_count": 203,
   "id": "fef3c1b1",
   "metadata": {},
   "outputs": [],
   "source": [
    "import pandas as pd\n",
    "import numpy as np\n",
    "from sklearn.model_selection import TimeSeriesSplit\n",
    "from sklearn.ensemble import GradientBoostingRegressor\n",
    "from sklearn.metrics import mean_squared_error\n",
    "import math"
   ]
  },
  {
   "cell_type": "code",
   "execution_count": 204,
   "id": "edcec8c8",
   "metadata": {},
   "outputs": [],
   "source": [
    "# Load the data\n",
    "url = \"https://github.com/zhentaoshi/Econ5821/raw/main/data_example/US_PCE_training.xlsx\"\n",
    "df = pd.read_excel(url, header=None)\n",
    "df = df.drop(df.columns[0], axis=1)\n",
    "df = df.T"
   ]
  },
  {
   "cell_type": "code",
   "execution_count": 205,
   "id": "d58c6850",
   "metadata": {},
   "outputs": [],
   "source": [
    "# Compute the inflation rate\n",
    "df.iloc[:, 1] = (np.log(df.iloc[:, 1]) - np.log(df.iloc[:, 1].shift(1))) * 12"
   ]
  },
  {
   "cell_type": "code",
   "execution_count": 206,
   "id": "ff86e7ce",
   "metadata": {},
   "outputs": [],
   "source": [
    "# Transform the predictors into log difference\n",
    "for i in range(5, df.shape[1]):\n",
    "    df.iloc[:, i] = (np.log(df.iloc[:, i]) - np.log(df.iloc[:, i].shift(1))) * 12"
   ]
  },
  {
   "cell_type": "code",
   "execution_count": 207,
   "id": "2c59a3fd",
   "metadata": {},
   "outputs": [],
   "source": [
    "# Prepare the data for machine learning\n",
    "X = df.iloc[:, 5:]\n",
    "y = df.iloc[:, 1]"
   ]
  },
  {
   "cell_type": "code",
   "execution_count": 208,
   "id": "b306e52f",
   "metadata": {},
   "outputs": [],
   "source": [
    "# Remove the first row as it contains NaN due to the shift operation\n",
    "X = X.iloc[1:]\n",
    "y = y.iloc[1:]"
   ]
  },
  {
   "cell_type": "code",
   "execution_count": 209,
   "id": "4f6d7f8f",
   "metadata": {},
   "outputs": [
    {
     "name": "stdout",
     "output_type": "stream",
     "text": [
      "Root Mean Squared Error: 0.03211583925606428\n",
      "Root Mean Squared Error: 0.01358186119507202\n",
      "Root Mean Squared Error: 0.0090375813738367\n",
      "Root Mean Squared Error: 0.01975630067766137\n",
      "Root Mean Squared Error: 0.006734450870940351\n"
     ]
    }
   ],
   "source": [
    "# Split the data into training and validation sets\n",
    "tscv = TimeSeriesSplit(n_splits=5)\n",
    "for train_index, test_index in tscv.split(X):\n",
    "    X_train, X_test = X.iloc[train_index], X.iloc[test_index]\n",
    "    y_train, y_test = y.iloc[train_index], y.iloc[test_index]\n",
    "\n",
    "    # Train a Gradient Boosting model\n",
    "    model = GradientBoostingRegressor()\n",
    "    model_grad_1 = model.fit(X_train, y_train)\n",
    "\n",
    "    # Evaluate the model\n",
    "    y_pred = model.predict(X_test)\n",
    "    mse = mean_squared_error(y_test, y_pred)\n",
    "    rmse = math.sqrt(mse)\n",
    "    print(f\"Root Mean Squared Error: {rmse}\")"
   ]
  },
  {
   "cell_type": "markdown",
   "id": "0f830687",
   "metadata": {},
   "source": [
    "* Now the model can be used to forecast future inflation rates\n",
    "\n",
    "* Use the model to forecast future inflation rates\n",
    "\n",
    "* For example, to predict the inflation rate for the next month given its predictors"
   ]
  },
  {
   "cell_type": "code",
   "execution_count": 210,
   "id": "6441b9f6",
   "metadata": {},
   "outputs": [
    {
     "name": "stdout",
     "output_type": "stream",
     "text": [
      "Predicted inflation rate for next month: 0.02949181293937917\n"
     ]
    }
   ],
   "source": [
    "next_month_predictors = X.iloc[-1].values.reshape(1, -1)\n",
    "next_month_inflation_rate = model_grad_1.predict(next_month_predictors)\n",
    "print(f\"Predicted inflation rate for next month: {next_month_inflation_rate[0]}\")"
   ]
  },
  {
   "cell_type": "markdown",
   "id": "79e0ad60",
   "metadata": {},
   "source": [
    "## For 3 months model"
   ]
  },
  {
   "cell_type": "code",
   "execution_count": 211,
   "id": "6068ef42",
   "metadata": {},
   "outputs": [],
   "source": [
    "# Load the data\n",
    "url = \"https://github.com/zhentaoshi/Econ5821/raw/main/data_example/US_PCE_training.xlsx\"\n",
    "df = pd.read_excel(url, header=None)\n",
    "df = df.drop(df.columns[0], axis=1)\n",
    "df = df.T"
   ]
  },
  {
   "cell_type": "code",
   "execution_count": 212,
   "id": "d7901a3c",
   "metadata": {},
   "outputs": [],
   "source": [
    "# Compute the inflation rate\n",
    "df.iloc[:, 1] = (np.log(df.iloc[:, 1]) - np.log(df.iloc[:, 1].shift(1))) * 12"
   ]
  },
  {
   "cell_type": "code",
   "execution_count": 213,
   "id": "638a634d",
   "metadata": {},
   "outputs": [],
   "source": [
    "# Transform the predictors into log difference\n",
    "for i in range(5, df.shape[1]):\n",
    "    df.iloc[:, i] = (np.log(df.iloc[:, i]) - np.log(df.iloc[:, i].shift(1))) * 12"
   ]
  },
  {
   "cell_type": "code",
   "execution_count": 214,
   "id": "78b27325",
   "metadata": {},
   "outputs": [],
   "source": [
    "# Prepare the data for machine learning\n",
    "X = df.iloc[:, 5:]\n",
    "y = df.iloc[:, 1]"
   ]
  },
  {
   "cell_type": "code",
   "execution_count": 215,
   "id": "14355e7d",
   "metadata": {},
   "outputs": [],
   "source": [
    "# Shift y 3 months ahead for 3-month-ahead forecast\n",
    "y = y.shift(-3)"
   ]
  },
  {
   "cell_type": "code",
   "execution_count": 216,
   "id": "40b5ba48",
   "metadata": {},
   "outputs": [],
   "source": [
    "# Remove the first row as it contains NaN due to the shift operation\n",
    "X = X.iloc[1:-3]\n",
    "y = y.iloc[1:-3]"
   ]
  },
  {
   "cell_type": "code",
   "execution_count": 217,
   "id": "2a0af946",
   "metadata": {},
   "outputs": [
    {
     "name": "stdout",
     "output_type": "stream",
     "text": [
      "Root Mean Squared Error: 0.03978986969705243\n",
      "Root Mean Squared Error: 0.02426271388787731\n",
      "Root Mean Squared Error: 0.01910897428191624\n",
      "Root Mean Squared Error: 0.03310567391780418\n",
      "Root Mean Squared Error: 0.02008833239747952\n"
     ]
    }
   ],
   "source": [
    "# Split the data into training and validation sets\n",
    "tscv = TimeSeriesSplit(n_splits=5)\n",
    "for train_index, test_index in tscv.split(X):\n",
    "    X_train, X_test = X.iloc[train_index], X.iloc[test_index]\n",
    "    y_train, y_test = y.iloc[train_index], y.iloc[test_index]\n",
    "\n",
    "    # Train a Gradient Boosting model\n",
    "    model = GradientBoostingRegressor()\n",
    "    model_grad_3 = model.fit(X_train, y_train)\n",
    "\n",
    "    # Evaluate the model\n",
    "    y_pred = model.predict(X_test)\n",
    "    mse = mean_squared_error(y_test, y_pred)\n",
    "    rmse = math.sqrt(mse)\n",
    "    print(f\"Root Mean Squared Error: {rmse}\")"
   ]
  },
  {
   "cell_type": "markdown",
   "id": "5d830ffe",
   "metadata": {},
   "source": [
    "* Now the model can be used to forecast future inflation rates\n",
    "\n",
    "* Use the model to forecast future inflation rates\n",
    "\n",
    "* For example, to predict the inflation rate for the next quarter given its predictors"
   ]
  },
  {
   "cell_type": "code",
   "execution_count": 218,
   "id": "bc221abd",
   "metadata": {},
   "outputs": [
    {
     "name": "stdout",
     "output_type": "stream",
     "text": [
      "Predicted inflation rate for next quarter: 0.017331325235073913\n"
     ]
    }
   ],
   "source": [
    "next_quarter_predictors = X.iloc[-1].values.reshape(1, -1)\n",
    "next_quarter_inflation_rate = model_grad_3.predict(next_quarter_predictors)\n",
    "print(f\"Predicted inflation rate for next quarter: {next_quarter_inflation_rate[0]}\")"
   ]
  },
  {
   "cell_type": "markdown",
   "id": "edef101b",
   "metadata": {},
   "source": [
    "## For 12 months model"
   ]
  },
  {
   "cell_type": "code",
   "execution_count": 219,
   "id": "c87966c1",
   "metadata": {},
   "outputs": [],
   "source": [
    "# Shift y 12 months ahead for 12-month-ahead forecast\n",
    "y = y.shift(-12)"
   ]
  },
  {
   "cell_type": "code",
   "execution_count": 220,
   "id": "db6615a5",
   "metadata": {},
   "outputs": [],
   "source": [
    "# Remove the first row as it contains NaN due to the shift operation\n",
    "X = X.iloc[:-12]\n",
    "y = y.iloc[:-12]"
   ]
  },
  {
   "cell_type": "code",
   "execution_count": 221,
   "id": "0ec39aa4",
   "metadata": {},
   "outputs": [
    {
     "name": "stdout",
     "output_type": "stream",
     "text": [
      "Root Mean Squared Error: 0.044367497588532596\n",
      "Root Mean Squared Error: 0.029962126473705043\n",
      "Root Mean Squared Error: 0.024075523394451268\n",
      "Root Mean Squared Error: 0.03307545096878717\n",
      "Root Mean Squared Error: 0.01993493452162805\n"
     ]
    }
   ],
   "source": [
    "# Split the data into training and validation sets\n",
    "tscv = TimeSeriesSplit(n_splits=5)\n",
    "for train_index, test_index in tscv.split(X):\n",
    "    X_train, X_test = X.iloc[train_index], X.iloc[test_index]\n",
    "    y_train, y_test = y.iloc[train_index], y.iloc[test_index]\n",
    "\n",
    "    # Train a Gradient Boosting model\n",
    "    model = GradientBoostingRegressor()\n",
    "    model_grad_12 = model.fit(X_train, y_train)\n",
    "\n",
    "    # Evaluate the model\n",
    "    y_pred = model.predict(X_test)\n",
    "    mse = mean_squared_error(y_test, y_pred)\n",
    "    rmse = math.sqrt(mse)\n",
    "    print(f\"Root Mean Squared Error: {rmse}\")"
   ]
  },
  {
   "cell_type": "markdown",
   "id": "88f9d89c",
   "metadata": {},
   "source": [
    "* Now the model can be used to forecast future inflation rates\n",
    "\n",
    "* Use the model to forecast future inflation rates\n",
    "\n",
    "* For example, to predict the inflation rate for the next year given its predictors"
   ]
  },
  {
   "cell_type": "code",
   "execution_count": 222,
   "id": "a4d6fec5",
   "metadata": {},
   "outputs": [
    {
     "name": "stdout",
     "output_type": "stream",
     "text": [
      "Predicted inflation rate for next year: 0.0162575877348536\n"
     ]
    }
   ],
   "source": [
    "next_year_predictors = X.iloc[-1].values.reshape(1, -1)\n",
    "next_year_inflation_rate = model_grad_12.predict(next_year_predictors)\n",
    "print(f\"Predicted inflation rate for next year: {next_year_inflation_rate[0]}\")"
   ]
  }
 ],
 "metadata": {
  "kernelspec": {
   "display_name": "Python 3 (ipykernel)",
   "language": "python",
   "name": "python3"
  },
  "language_info": {
   "codemirror_mode": {
    "name": "ipython",
    "version": 3
   },
   "file_extension": ".py",
   "mimetype": "text/x-python",
   "name": "python",
   "nbconvert_exporter": "python",
   "pygments_lexer": "ipython3",
   "version": "3.11.5"
  }
 },
 "nbformat": 4,
 "nbformat_minor": 5
}
