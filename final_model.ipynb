{
 "cells": [
  {
   "cell_type": "markdown",
   "id": "bbbb1f0b",
   "metadata": {},
   "source": [
    "# AR(1) method training\n",
    "\n",
    "## For 1 month model"
   ]
  },
  {
   "cell_type": "code",
   "execution_count": 1,
   "id": "f88369cd",
   "metadata": {},
   "outputs": [],
   "source": [
    "import pandas as pd\n",
    "import numpy as np\n",
    "from sklearn.linear_model import LinearRegression\n",
    "from sklearn.metrics import mean_squared_error\n",
    "import matplotlib.pyplot as plt\n",
    "from statsmodels.tsa.ar_model import AutoReg"
   ]
  },
  {
   "cell_type": "code",
   "execution_count": 2,
   "id": "7db4d93c",
   "metadata": {},
   "outputs": [],
   "source": [
    "# Load the data\n",
    "url = \"https://github.com/zhentaoshi/Econ5821/raw/main/data_example/US_PCE_training.xlsx\"\n",
    "df = pd.read_excel(url, header=None)\n",
    "df = df.drop(df.columns[0], axis=1)\n",
    "df = df.T"
   ]
  },
  {
   "cell_type": "code",
   "execution_count": 3,
   "id": "9f194f45",
   "metadata": {},
   "outputs": [],
   "source": [
    "# Compute the inflation rate\n",
    "df.iloc[:, 1] = (np.log(df.iloc[:, 1]) - np.log(df.iloc[:, 1].shift(1))) * 12"
   ]
  },
  {
   "cell_type": "code",
   "execution_count": 4,
   "id": "4f88dcdb",
   "metadata": {},
   "outputs": [],
   "source": [
    "# Transform the predictors\n",
    "for i in range(5, df.shape[1]):\n",
    "    df.iloc[:, i] = (np.log(df.iloc[:, i]) - np.log(df.iloc[:, i].shift(1))) * 12"
   ]
  },
  {
   "cell_type": "code",
   "execution_count": 5,
   "id": "63469422",
   "metadata": {},
   "outputs": [],
   "source": [
    "# Prepare the data for machine learning\n",
    "X = df.iloc[:, 5:].T\n",
    "y = df.iloc[:, 1]"
   ]
  },
  {
   "cell_type": "code",
   "execution_count": 6,
   "id": "8c7752c8",
   "metadata": {},
   "outputs": [],
   "source": [
    "# Remove the first row as it contains NaN\n",
    "X = X.iloc[:, 1:]\n",
    "y = y.iloc[1:]"
   ]
  },
  {
   "cell_type": "code",
   "execution_count": 7,
   "id": "76b3bad1",
   "metadata": {},
   "outputs": [
    {
     "name": "stdout",
     "output_type": "stream",
     "text": [
      "Mean Squared Error: 0.0001811770840277184\n",
      "Mean Squared Error: 0.0002538879050745956\n",
      "Mean Squared Error: 0.0008117440680446121\n",
      "Mean Squared Error: 0.0004755494735527069\n",
      "Mean Squared Error: 0.00381723110544419\n"
     ]
    }
   ],
   "source": [
    "# Implement time series cross-validation\n",
    "from sklearn.model_selection import TimeSeriesSplit\n",
    "\n",
    "tscv = TimeSeriesSplit(n_splits=5)\n",
    "\n",
    "for train_index, test_index in tscv.split(X):\n",
    "    X_train, X_test = X.iloc[train_index], X.iloc[test_index]\n",
    "    y_train, y_test = y.iloc[train_index], y.iloc[test_index]\n",
    "\n",
    "    # Train an AR(1) model\n",
    "    model = AutoReg(y_train.values, lags=1)\n",
    "    model_fit = model.fit()\n",
    "\n",
    "    # Make predictions\n",
    "    y_pred = model_fit.predict(start=len(y_train), end=len(y_train)+len(y_test)-1, dynamic=False)\n",
    "\n",
    "    # Evaluate the model\n",
    "    mse = mean_squared_error(y_test, y_pred)\n",
    "    print(f\"Mean Squared Error: {mse}\")"
   ]
  },
  {
   "cell_type": "code",
   "execution_count": 8,
   "id": "f9967bd7",
   "metadata": {},
   "outputs": [],
   "source": [
    "# Train the AR(1) model on the entire dataset\n",
    "model = AutoReg(y.values, lags=1)\n",
    "model_ar_1 = model.fit()"
   ]
  },
  {
   "cell_type": "markdown",
   "id": "cbab4d97",
   "metadata": {},
   "source": [
    "* Now the model can be used to forecast future inflation rates\n",
    "\n",
    "* For example, to predict the inflation rate for the next month given its predictors"
   ]
  },
  {
   "cell_type": "code",
   "execution_count": 9,
   "id": "53c65247",
   "metadata": {},
   "outputs": [
    {
     "name": "stdout",
     "output_type": "stream",
     "text": [
      "Forecast for 1 month ahead: [0.03252426]\n"
     ]
    }
   ],
   "source": [
    "# Forecast the inflation rate 1 month ahead\n",
    "forecast = model_ar_1.predict(start=len(y), end=len(y), dynamic=False)\n",
    "print(f\"Forecast for 1 month ahead: {forecast}\")"
   ]
  },
  {
   "cell_type": "markdown",
   "id": "0ba6f7aa",
   "metadata": {},
   "source": [
    "## For 3 month model"
   ]
  },
  {
   "cell_type": "code",
   "execution_count": 10,
   "id": "c44f6ec9",
   "metadata": {},
   "outputs": [],
   "source": [
    "# Load the data\n",
    "url = \"https://github.com/zhentaoshi/Econ5821/raw/main/data_example/US_PCE_training.xlsx\"\n",
    "df = pd.read_excel(url, header=None)\n",
    "df = df.drop(df.columns[0], axis=1)\n",
    "df = df.T"
   ]
  },
  {
   "cell_type": "code",
   "execution_count": 11,
   "id": "567e6ab8",
   "metadata": {},
   "outputs": [],
   "source": [
    "# Compute the inflation rate\n",
    "df.iloc[:, 1] = (np.log(df.iloc[:, 1]) - np.log(df.iloc[:, 1].shift(1))) * 12"
   ]
  },
  {
   "cell_type": "code",
   "execution_count": 12,
   "id": "785e772e",
   "metadata": {},
   "outputs": [],
   "source": [
    "# Transform the predictors\n",
    "for i in range(5, df.shape[1]):\n",
    "    df.iloc[:, i] = (np.log(df.iloc[:, i]) - np.log(df.iloc[:, i].shift(1))) * 12"
   ]
  },
  {
   "cell_type": "code",
   "execution_count": 13,
   "id": "413c868e",
   "metadata": {},
   "outputs": [],
   "source": [
    "# Prepare the data for machine learning\n",
    "X = df.iloc[:, 5:].T\n",
    "y = df.iloc[:, 1]"
   ]
  },
  {
   "cell_type": "code",
   "execution_count": 14,
   "id": "1278f4f0",
   "metadata": {},
   "outputs": [],
   "source": [
    "# Shift y 3 months ahead\n",
    "y = y.shift(-3)"
   ]
  },
  {
   "cell_type": "code",
   "execution_count": 15,
   "id": "79393a1e",
   "metadata": {},
   "outputs": [],
   "source": [
    "# Remove the last 3 rows as they contain NaN\n",
    "X = X.iloc[:, 1:-3]\n",
    "y = y.iloc[1:-3]"
   ]
  },
  {
   "cell_type": "code",
   "execution_count": 16,
   "id": "9e2d0392",
   "metadata": {},
   "outputs": [
    {
     "name": "stdout",
     "output_type": "stream",
     "text": [
      "Mean Squared Error: 0.00016874668123816974\n",
      "Mean Squared Error: 0.00029500747338626364\n",
      "Mean Squared Error: 0.0007770341209473035\n",
      "Mean Squared Error: 0.0006612665985256351\n",
      "Mean Squared Error: 0.003547166157278783\n"
     ]
    }
   ],
   "source": [
    "# Implement time series cross-validation\n",
    "tscv = TimeSeriesSplit(n_splits=5)\n",
    "\n",
    "for train_index, test_index in tscv.split(X):\n",
    "    X_train, X_test = X.iloc[train_index], X.iloc[test_index]\n",
    "    y_train, y_test = y.iloc[train_index], y.iloc[test_index]\n",
    "\n",
    "    # Train an AR(1) model\n",
    "    model = AutoReg(y_train.values, lags=1)\n",
    "    model_fit = model.fit()\n",
    "\n",
    "    # Make predictions\n",
    "    y_pred = model_fit.predict(start=len(y_train), end=len(y_train)+len(y_test)-1, dynamic=False)\n",
    "\n",
    "    # Evaluate the model\n",
    "    mse = mean_squared_error(y_test, y_pred)\n",
    "    print(f\"Mean Squared Error: {mse}\")"
   ]
  },
  {
   "cell_type": "code",
   "execution_count": 17,
   "id": "0e56ce53",
   "metadata": {},
   "outputs": [],
   "source": [
    "# Train the AR(1) model on the entire dataset\n",
    "model = AutoReg(y.values, lags=1)\n",
    "model_ar_3 = model.fit()"
   ]
  },
  {
   "cell_type": "markdown",
   "id": "24c96dea",
   "metadata": {},
   "source": [
    "* Now the model can be used to forecast future inflation rates\n",
    "\n",
    "* For example, to predict the inflation rate for the next quarter given its predictors"
   ]
  },
  {
   "cell_type": "code",
   "execution_count": 18,
   "id": "bb7480a6",
   "metadata": {},
   "outputs": [
    {
     "name": "stdout",
     "output_type": "stream",
     "text": [
      "Forecast for 3 months ahead: 0.032202563663067445\n"
     ]
    }
   ],
   "source": [
    "# Forecast the inflation rate 3 months ahead\n",
    "forecast = model_ar_3.predict(start=len(y), end=len(y)+2, dynamic=False)\n",
    "print(f\"Forecast for 3 months ahead: {forecast[-1]}\")"
   ]
  },
  {
   "cell_type": "markdown",
   "id": "a928c5a1",
   "metadata": {},
   "source": [
    "## For 12 month model"
   ]
  },
  {
   "cell_type": "code",
   "execution_count": 19,
   "id": "c6ec787b",
   "metadata": {},
   "outputs": [],
   "source": [
    "# Load the data\n",
    "url = \"https://github.com/zhentaoshi/Econ5821/raw/main/data_example/US_PCE_training.xlsx\"\n",
    "df = pd.read_excel(url, header=None)\n",
    "df = df.drop(df.columns[0], axis=1)\n",
    "df = df.T"
   ]
  },
  {
   "cell_type": "code",
   "execution_count": 20,
   "id": "3d83e3ff",
   "metadata": {},
   "outputs": [],
   "source": [
    "# Compute the inflation rate\n",
    "df.iloc[:, 1] = (np.log(df.iloc[:, 1]) - np.log(df.iloc[:, 1].shift(1))) * 12"
   ]
  },
  {
   "cell_type": "code",
   "execution_count": 21,
   "id": "9f22e247",
   "metadata": {},
   "outputs": [],
   "source": [
    "# Transform the predictors\n",
    "for i in range(5, df.shape[1]):\n",
    "    df.iloc[:, i] = (np.log(df.iloc[:, i]) - np.log(df.iloc[:, i].shift(1))) * 12"
   ]
  },
  {
   "cell_type": "code",
   "execution_count": 22,
   "id": "d22d5d83",
   "metadata": {},
   "outputs": [],
   "source": [
    "# Prepare the data for machine learning\n",
    "X = df.iloc[:, 5:].T\n",
    "y = df.iloc[:, 1]"
   ]
  },
  {
   "cell_type": "code",
   "execution_count": 23,
   "id": "669b6de5",
   "metadata": {},
   "outputs": [],
   "source": [
    "# Shift y 12 months ahead\n",
    "y = y.shift(-12)"
   ]
  },
  {
   "cell_type": "code",
   "execution_count": 24,
   "id": "6b18da52",
   "metadata": {},
   "outputs": [],
   "source": [
    "# Remove the last 12 rows as they contain NaN\n",
    "X = X.iloc[:, 1:-12]\n",
    "y = y.iloc[1:-12]"
   ]
  },
  {
   "cell_type": "code",
   "execution_count": 25,
   "id": "56ca14d3",
   "metadata": {},
   "outputs": [
    {
     "name": "stdout",
     "output_type": "stream",
     "text": [
      "Mean Squared Error: 0.00010239409494070976\n",
      "Mean Squared Error: 0.0004937425872471006\n",
      "Mean Squared Error: 0.0007412711984037616\n",
      "Mean Squared Error: 0.002188092945199966\n",
      "Mean Squared Error: 0.0011927727129309913\n"
     ]
    }
   ],
   "source": [
    "# Implement time series cross-validation\n",
    "tscv = TimeSeriesSplit(n_splits=5)\n",
    "\n",
    "for train_index, test_index in tscv.split(X):\n",
    "    X_train, X_test = X.iloc[train_index], X.iloc[test_index]\n",
    "    y_train, y_test = y.iloc[train_index], y.iloc[test_index]\n",
    "\n",
    "    # Train an AR(1) model\n",
    "    model = AutoReg(y_train.values, lags=1)\n",
    "    model_fit = model.fit()\n",
    "\n",
    "    # Make predictions\n",
    "    y_pred = model_fit.predict(start=len(y_train), end=len(y_train)+len(y_test)-1, dynamic=False)\n",
    "\n",
    "    # Evaluate the model\n",
    "    mse = mean_squared_error(y_test, y_pred)\n",
    "    print(f\"Mean Squared Error: {mse}\")\n"
   ]
  },
  {
   "cell_type": "code",
   "execution_count": 26,
   "id": "318d546a",
   "metadata": {},
   "outputs": [],
   "source": [
    "# Train the AR(1) model on the entire dataset\n",
    "model = AutoReg(y.values, lags=1)\n",
    "model_ar_12 = model.fit()"
   ]
  },
  {
   "cell_type": "markdown",
   "id": "e6c0a582",
   "metadata": {},
   "source": [
    "* Now we get the model_ar_12\n",
    "\n",
    "* The model can be used to forecast future inflation rates\n",
    "\n",
    "* For example, to predict the inflation rate for the next year given its predictors"
   ]
  },
  {
   "cell_type": "code",
   "execution_count": 27,
   "id": "1388863f",
   "metadata": {},
   "outputs": [
    {
     "name": "stdout",
     "output_type": "stream",
     "text": [
      "Forecast for 12 months ahead: 0.0320111244775863\n"
     ]
    }
   ],
   "source": [
    "# Forecast the inflation rate 12 months ahead\n",
    "forecast = model_ar_12.predict(start=len(y), end=len(y)+11, dynamic=False)\n",
    "print(f\"Forecast for 12 months ahead: {forecast[-1]}\")"
   ]
  },
  {
   "cell_type": "markdown",
   "id": "d1ae438e",
   "metadata": {},
   "source": [
    "# LASSO metheod training\n",
    "\n",
    "## For 1 month model"
   ]
  },
  {
   "cell_type": "code",
   "execution_count": 28,
   "id": "11ee86d9",
   "metadata": {},
   "outputs": [],
   "source": [
    "import pandas as pd\n",
    "import numpy as np\n",
    "from sklearn.linear_model import LassoCV\n",
    "from sklearn.metrics import mean_squared_error\n",
    "from sklearn.model_selection import TimeSeriesSplit\n",
    "import math"
   ]
  },
  {
   "cell_type": "code",
   "execution_count": 29,
   "id": "9e6c2826",
   "metadata": {},
   "outputs": [],
   "source": [
    "# Load the data\n",
    "url = \"https://github.com/zhentaoshi/Econ5821/raw/main/data_example/US_PCE_training.xlsx\"\n",
    "df = pd.read_excel(url, header=None)\n",
    "df = df.drop(df.columns[0], axis=1)\n",
    "df = df.T"
   ]
  },
  {
   "cell_type": "code",
   "execution_count": 30,
   "id": "201acd85",
   "metadata": {},
   "outputs": [],
   "source": [
    "# Compute the inflation rate\n",
    "df.iloc[:, 1] = (np.log(df.iloc[:, 1]) - np.log(df.iloc[:, 1].shift(1))) * 12"
   ]
  },
  {
   "cell_type": "code",
   "execution_count": 31,
   "id": "b228480e",
   "metadata": {},
   "outputs": [],
   "source": [
    "# Transform the predictors into log difference\n",
    "for i in range(5, df.shape[1]):\n",
    "    df.iloc[:, i] = (np.log(df.iloc[:, i]) - np.log(df.iloc[:, i].shift(1))) * 12"
   ]
  },
  {
   "cell_type": "code",
   "execution_count": 32,
   "id": "e2dab0d2",
   "metadata": {},
   "outputs": [],
   "source": [
    "# Prepare the data for machine learning\n",
    "X = df.iloc[:, 5:]\n",
    "y = df.iloc[:, 1]"
   ]
  },
  {
   "cell_type": "code",
   "execution_count": 33,
   "id": "1cf71de7",
   "metadata": {},
   "outputs": [],
   "source": [
    "# Remove the first row (NaN value due to the shift operation)\n",
    "X = X.iloc[1:]\n",
    "y = y.iloc[1:]"
   ]
  },
  {
   "cell_type": "code",
   "execution_count": 34,
   "id": "a7b839ee",
   "metadata": {},
   "outputs": [],
   "source": [
    "# Implement a time series split for cross-validation\n",
    "tscv = TimeSeriesSplit(n_splits=5)"
   ]
  },
  {
   "cell_type": "code",
   "execution_count": 35,
   "id": "90130e11",
   "metadata": {},
   "outputs": [],
   "source": [
    "# Train a LASSO regression model\n",
    "model = LassoCV(cv=tscv)\n",
    "model_lasso_1 = model.fit(X, y)"
   ]
  },
  {
   "cell_type": "markdown",
   "id": "4e5aca89",
   "metadata": {},
   "source": [
    "* Now, we get the model, then we use MSE to evaluate the model"
   ]
  },
  {
   "cell_type": "code",
   "execution_count": 36,
   "id": "85504f43",
   "metadata": {},
   "outputs": [
    {
     "name": "stdout",
     "output_type": "stream",
     "text": [
      "Root Mean Squared Error: 0.003467640633310763\n"
     ]
    }
   ],
   "source": [
    "mse = mean_squared_error(y, model.predict(X))\n",
    "rmse = math.sqrt(mse)\n",
    "print(f\"Root Mean Squared Error: {rmse}\")"
   ]
  },
  {
   "cell_type": "markdown",
   "id": "f8512d6b",
   "metadata": {},
   "source": [
    "* We can use the model to forecast future inflation rates\n",
    "\n",
    "* For example, to forecast the inflation rate for the next month given its predictors"
   ]
  },
  {
   "cell_type": "code",
   "execution_count": 37,
   "id": "6797502e",
   "metadata": {},
   "outputs": [
    {
     "name": "stdout",
     "output_type": "stream",
     "text": [
      "Forecasted inflation rate for the next month: 0.03449263811867629\n"
     ]
    }
   ],
   "source": [
    "next_month_predictors = X.iloc[-1].values.reshape(1, -1)\n",
    "next_month_inflation_rate = model_lasso_1.predict(next_month_predictors)\n",
    "print(f\"Forecasted inflation rate for the next month: {next_month_inflation_rate[0]}\")"
   ]
  },
  {
   "cell_type": "markdown",
   "id": "9585de7b",
   "metadata": {},
   "source": [
    "## For 3 month model"
   ]
  },
  {
   "cell_type": "code",
   "execution_count": 38,
   "id": "72d9079c",
   "metadata": {},
   "outputs": [],
   "source": [
    "# Load the data\n",
    "url = \"https://github.com/zhentaoshi/Econ5821/raw/main/data_example/US_PCE_training.xlsx\"\n",
    "df = pd.read_excel(url, header=None)\n",
    "df = df.drop(df.columns[0], axis=1)\n",
    "df = df.T"
   ]
  },
  {
   "cell_type": "code",
   "execution_count": 39,
   "id": "163631ef",
   "metadata": {},
   "outputs": [],
   "source": [
    "# Compute the inflation rate\n",
    "df.iloc[:, 1] = (np.log(df.iloc[:, 1]) - np.log(df.iloc[:, 1].shift(1))) * 12"
   ]
  },
  {
   "cell_type": "code",
   "execution_count": 40,
   "id": "f50796d0",
   "metadata": {},
   "outputs": [],
   "source": [
    "# Transform the predictors into log difference\n",
    "for i in range(5, df.shape[1]):\n",
    "    df.iloc[:, i] = (np.log(df.iloc[:, i]) - np.log(df.iloc[:, i].shift(1))) * 12"
   ]
  },
  {
   "cell_type": "code",
   "execution_count": 41,
   "id": "b188eaa9",
   "metadata": {},
   "outputs": [],
   "source": [
    "# Prepare the data for machine learning\n",
    "X = df.iloc[:, 5:]\n",
    "y = df.iloc[:, 1]"
   ]
  },
  {
   "cell_type": "code",
   "execution_count": 42,
   "id": "11083ed7",
   "metadata": {},
   "outputs": [],
   "source": [
    "# Shift the target variable 3 months into the future\n",
    "y = y.shift(-3)"
   ]
  },
  {
   "cell_type": "code",
   "execution_count": 43,
   "id": "a8fc8e3e",
   "metadata": {},
   "outputs": [],
   "source": [
    "# Remove the first row (NaN value due to the shift operation) and the last 3 rows (NaN values due to the shift operation on y)\n",
    "X = X.iloc[1:-3]\n",
    "y = y.iloc[1:-3]"
   ]
  },
  {
   "cell_type": "code",
   "execution_count": 44,
   "id": "03850983",
   "metadata": {},
   "outputs": [],
   "source": [
    "# Implement a time series split for cross-validation\n",
    "tscv = TimeSeriesSplit(n_splits=5)"
   ]
  },
  {
   "cell_type": "code",
   "execution_count": 45,
   "id": "bc7cacdc",
   "metadata": {},
   "outputs": [],
   "source": [
    "# Train a LASSO regression model\n",
    "model = LassoCV(cv=tscv, max_iter=10000)\n",
    "model_lasso_3 = model.fit(X, y)"
   ]
  },
  {
   "cell_type": "markdown",
   "id": "806cc748",
   "metadata": {},
   "source": [
    "* Now, we get the model, then we use MSE to evaluate the model"
   ]
  },
  {
   "cell_type": "code",
   "execution_count": 46,
   "id": "b553a3a6",
   "metadata": {},
   "outputs": [
    {
     "name": "stdout",
     "output_type": "stream",
     "text": [
      "Root Mean Squared Error: 0.019214750942880412\n"
     ]
    }
   ],
   "source": [
    "mse = mean_squared_error(y, model.predict(X))\n",
    "rmse = math.sqrt(mse)\n",
    "print(f\"Root Mean Squared Error: {rmse}\")"
   ]
  },
  {
   "cell_type": "markdown",
   "id": "5d3c987c",
   "metadata": {},
   "source": [
    "* We can use the model to forecast future inflation rates\n",
    "\n",
    "* For example, to forecast the inflation rate for the next quarter given its predictors"
   ]
  },
  {
   "cell_type": "code",
   "execution_count": 47,
   "id": "56ed5562",
   "metadata": {},
   "outputs": [
    {
     "name": "stdout",
     "output_type": "stream",
     "text": [
      "Forecasted inflation rate for the 3rd month from the last month: 0.013062241924392695\n"
     ]
    }
   ],
   "source": [
    "third_month_predictors = X.iloc[-1].values.reshape(1, -1)\n",
    "third_month_inflation_rate = model_lasso_3.predict(third_month_predictors)\n",
    "print(f\"Forecasted inflation rate for the 3rd month from the last month: {third_month_inflation_rate[0]}\")"
   ]
  },
  {
   "cell_type": "markdown",
   "id": "e0881de1",
   "metadata": {},
   "source": [
    "## For 12 month model"
   ]
  },
  {
   "cell_type": "code",
   "execution_count": 48,
   "id": "e446cafd",
   "metadata": {},
   "outputs": [],
   "source": [
    "# Load the data\n",
    "url = \"https://github.com/zhentaoshi/Econ5821/raw/main/data_example/US_PCE_training.xlsx\"\n",
    "df = pd.read_excel(url, header=None)\n",
    "df = df.drop(df.columns[0], axis=1)\n",
    "df = df.T"
   ]
  },
  {
   "cell_type": "code",
   "execution_count": 49,
   "id": "7759fa1f",
   "metadata": {},
   "outputs": [],
   "source": [
    "# Compute the inflation rate\n",
    "df.iloc[:, 1] = (np.log(df.iloc[:, 1]) - np.log(df.iloc[:, 1].shift(1))) * 12"
   ]
  },
  {
   "cell_type": "code",
   "execution_count": 50,
   "id": "9e2a740d",
   "metadata": {},
   "outputs": [],
   "source": [
    "# Transform the predictors into log difference\n",
    "for i in range(5, df.shape[1]):\n",
    "    df.iloc[:, i] = (np.log(df.iloc[:, i]) - np.log(df.iloc[:, i].shift(1))) * 12"
   ]
  },
  {
   "cell_type": "code",
   "execution_count": 51,
   "id": "2dc46f5d",
   "metadata": {},
   "outputs": [],
   "source": [
    "# Prepare the data for machine learning\n",
    "X = df.iloc[:, 5:]\n",
    "y = df.iloc[:, 1]"
   ]
  },
  {
   "cell_type": "code",
   "execution_count": 52,
   "id": "4c40ded5",
   "metadata": {},
   "outputs": [],
   "source": [
    "# Shift the target variable 12 months into the future\n",
    "y = y.shift(-12)"
   ]
  },
  {
   "cell_type": "code",
   "execution_count": 53,
   "id": "1444c2d7",
   "metadata": {},
   "outputs": [],
   "source": [
    "# Remove the first row (NaN value due to the shift operation) and the last 12 rows (NaN values due to the shift operation on y)\n",
    "X = X.iloc[1:-12]\n",
    "y = y.iloc[1:-12]"
   ]
  },
  {
   "cell_type": "code",
   "execution_count": 54,
   "id": "05382e23",
   "metadata": {},
   "outputs": [],
   "source": [
    "# Implement a time series split for cross-validation\n",
    "tscv = TimeSeriesSplit(n_splits=5)"
   ]
  },
  {
   "cell_type": "code",
   "execution_count": 55,
   "id": "8ca19ab1",
   "metadata": {},
   "outputs": [],
   "source": [
    "# Train a LASSO regression model\n",
    "model = LassoCV(cv=tscv, max_iter=100000)\n",
    "model_lasso_12 = model.fit(X, y)"
   ]
  },
  {
   "cell_type": "markdown",
   "id": "ee4c731b",
   "metadata": {},
   "source": [
    "* Now, we get the model, then we use MSE to evaluate the model"
   ]
  },
  {
   "cell_type": "code",
   "execution_count": 56,
   "id": "d23da4ca",
   "metadata": {},
   "outputs": [
    {
     "name": "stdout",
     "output_type": "stream",
     "text": [
      "Root Mean Squared Error: 0.02138442977286729\n"
     ]
    }
   ],
   "source": [
    "# Evaluate the model\n",
    "mse = mean_squared_error(y, model.predict(X))\n",
    "rmse = math.sqrt(mse)\n",
    "print(f\"Root Mean Squared Error: {rmse}\")"
   ]
  },
  {
   "cell_type": "markdown",
   "id": "96442e57",
   "metadata": {},
   "source": [
    "* We can use the model to forecast future inflation rates\n",
    "\n",
    "* For example, to forecast the inflation rate for the next quarter given its predictors"
   ]
  },
  {
   "cell_type": "code",
   "execution_count": 57,
   "id": "23e11b28",
   "metadata": {},
   "outputs": [
    {
     "name": "stdout",
     "output_type": "stream",
     "text": [
      "Forecasted inflation rate for the 12th month from the last month: 0.026461630080543218\n"
     ]
    }
   ],
   "source": [
    "twelfth_month_predictors = X.iloc[-1].values.reshape(1, -1)\n",
    "twelfth_month_inflation_rate = model_lasso_12.predict(twelfth_month_predictors)\n",
    "print(f\"Forecasted inflation rate for the 12th month from the last month: {twelfth_month_inflation_rate[0]}\")"
   ]
  },
  {
   "cell_type": "markdown",
   "id": "7ecae88e",
   "metadata": {},
   "source": [
    "# Random forest method\n",
    "\n",
    "## For 1 month model"
   ]
  },
  {
   "cell_type": "code",
   "execution_count": 58,
   "id": "90470dd3",
   "metadata": {},
   "outputs": [],
   "source": [
    "import pandas as pd\n",
    "import numpy as np\n",
    "from sklearn.model_selection import TimeSeriesSplit\n",
    "from sklearn.ensemble import RandomForestRegressor\n",
    "from sklearn.metrics import mean_squared_error"
   ]
  },
  {
   "cell_type": "code",
   "execution_count": 59,
   "id": "051e1f49",
   "metadata": {},
   "outputs": [],
   "source": [
    "# Load the data\n",
    "url = \"https://github.com/zhentaoshi/Econ5821/raw/main/data_example/US_PCE_training.xlsx\"\n",
    "df = pd.read_excel(url, header=None)\n",
    "df = df.drop(df.columns[0], axis=1)\n",
    "df = df.T"
   ]
  },
  {
   "cell_type": "code",
   "execution_count": 60,
   "id": "2163e251",
   "metadata": {},
   "outputs": [],
   "source": [
    "# Compute the inflation rate\n",
    "df.iloc[:, 1] = (np.log(df.iloc[:, 1]) - np.log(df.iloc[:, 1].shift(1))) * 12"
   ]
  },
  {
   "cell_type": "code",
   "execution_count": 61,
   "id": "ca41e9cc",
   "metadata": {},
   "outputs": [],
   "source": [
    "# Transform the predictors into log difference\n",
    "for i in range(5, df.shape[1]):\n",
    "    df.iloc[:, i] = (np.log(df.iloc[:, i]) - np.log(df.iloc[:, i].shift(1))) * 12"
   ]
  },
  {
   "cell_type": "code",
   "execution_count": 62,
   "id": "41003b51",
   "metadata": {},
   "outputs": [],
   "source": [
    "# Prepare the data for machine learning\n",
    "X = df.iloc[:, 5:].T\n",
    "y = df.iloc[:, 1]"
   ]
  },
  {
   "cell_type": "code",
   "execution_count": 63,
   "id": "c5fa43eb",
   "metadata": {},
   "outputs": [],
   "source": [
    "# Remove the first row as it contains NaN due to the shift operation\n",
    "X = X.iloc[:, 1:]\n",
    "y = y.iloc[1:]"
   ]
  },
  {
   "cell_type": "code",
   "execution_count": 64,
   "id": "a7990b39",
   "metadata": {},
   "outputs": [
    {
     "name": "stdout",
     "output_type": "stream",
     "text": [
      "Mean Squared Error: 0.00020764156630016166\n",
      "Mean Squared Error: 0.00025548061881101793\n",
      "Mean Squared Error: 0.0008105544525545744\n",
      "Mean Squared Error: 0.0004232477986754609\n",
      "Mean Squared Error: 0.003371754162947486\n"
     ]
    }
   ],
   "source": [
    "# Split the data into training and testing sets in a time series manner\n",
    "tscv = TimeSeriesSplit(n_splits=5)\n",
    "for train_index, test_index in tscv.split(X):\n",
    "    X_train, X_test = X.iloc[train_index], X.iloc[test_index]\n",
    "    y_train, y_test = y.iloc[train_index], y.iloc[test_index]\n",
    "\n",
    "    # Train a Random Forest model\n",
    "    model = RandomForestRegressor(n_estimators=100, random_state=42)\n",
    "    model_random_1 = model.fit(X_train, y_train)\n",
    "\n",
    "    # Evaluate the model\n",
    "    y_pred = model.predict(X_test)\n",
    "    mse = mean_squared_error(y_test, y_pred)\n",
    "    print(f\"Mean Squared Error: {mse}\")"
   ]
  },
  {
   "cell_type": "markdown",
   "id": "59c0a099",
   "metadata": {},
   "source": [
    "* Now the model can be used to forecast future inflation rates\n",
    "\n",
    "* For example, to predict the inflation rate for the next month given its predictors"
   ]
  },
  {
   "cell_type": "code",
   "execution_count": 65,
   "id": "fd745488",
   "metadata": {},
   "outputs": [
    {
     "name": "stdout",
     "output_type": "stream",
     "text": [
      "Predicted inflation rate for next month: 0.035056863413204374\n"
     ]
    }
   ],
   "source": [
    "next_month_predictors = X.iloc[-1].values.reshape(1, -1)\n",
    "next_month_inflation_rate = model_random_1.predict(next_month_predictors)\n",
    "print(f\"Predicted inflation rate for next month: {next_month_inflation_rate[0]}\")"
   ]
  },
  {
   "cell_type": "markdown",
   "id": "9197462b",
   "metadata": {},
   "source": [
    "## For 3 month model"
   ]
  },
  {
   "cell_type": "code",
   "execution_count": 66,
   "id": "c5aafbbf",
   "metadata": {},
   "outputs": [],
   "source": [
    "# Shift the target variable three months back\n",
    "y = y.shift(-3)"
   ]
  },
  {
   "cell_type": "code",
   "execution_count": 67,
   "id": "3d663816",
   "metadata": {},
   "outputs": [],
   "source": [
    "# Remove the last three rows as they contain NaN due to the shift operation\n",
    "X = X.iloc[ : ,:-3]\n",
    "y = y.iloc[:-3]"
   ]
  },
  {
   "cell_type": "code",
   "execution_count": 68,
   "id": "1f13c848",
   "metadata": {},
   "outputs": [
    {
     "name": "stdout",
     "output_type": "stream",
     "text": [
      "Mean Squared Error: 0.00020582728898192837\n",
      "Mean Squared Error: 0.0003050891055781312\n",
      "Mean Squared Error: 0.0006289775693014441\n",
      "Mean Squared Error: 0.0004971803530323238\n",
      "Mean Squared Error: 0.0031573561157078227\n"
     ]
    }
   ],
   "source": [
    "# Split the data into training and testing sets in a time series manner\n",
    "tscv = TimeSeriesSplit(n_splits=5)\n",
    "for train_index, test_index in tscv.split(X):\n",
    "    X_train, X_test = X.iloc[train_index], X.iloc[test_index]\n",
    "    y_train, y_test = y.iloc[train_index], y.iloc[test_index]\n",
    "\n",
    "    # Train a Random Forest model\n",
    "    model = RandomForestRegressor(n_estimators=100, random_state=42)\n",
    "    model_random_3 = model.fit(X_train, y_train)\n",
    "\n",
    "    # Evaluate the model\n",
    "    y_pred = model.predict(X_test)\n",
    "    mse = mean_squared_error(y_test, y_pred)\n",
    "    print(f\"Mean Squared Error: {mse}\")"
   ]
  },
  {
   "cell_type": "markdown",
   "id": "bdc32547",
   "metadata": {},
   "source": [
    "* Now the model can be used to forecast future inflation rates\n",
    "\n",
    "* For example, to predict the inflation rate for the next quarter given its predictors"
   ]
  },
  {
   "cell_type": "code",
   "execution_count": 69,
   "id": "402baa02",
   "metadata": {},
   "outputs": [
    {
     "name": "stdout",
     "output_type": "stream",
     "text": [
      "Predicted inflation rate for next quarter: 0.0367074508351352\n"
     ]
    }
   ],
   "source": [
    "next_quarter_predictors = X.iloc[-1].values.reshape(1, -1)\n",
    "next_quarter_inflation_rate = model_random_3.predict(next_quarter_predictors)\n",
    "print(f\"Predicted inflation rate for next quarter: {next_quarter_inflation_rate[0]}\")"
   ]
  },
  {
   "cell_type": "markdown",
   "id": "852c3f38",
   "metadata": {},
   "source": [
    "## For 12 month model"
   ]
  },
  {
   "cell_type": "code",
   "execution_count": 70,
   "id": "c2606b22",
   "metadata": {},
   "outputs": [],
   "source": [
    "# Shift the target variable twelve months back\n",
    "y = y.shift(-12)"
   ]
  },
  {
   "cell_type": "code",
   "execution_count": 71,
   "id": "84b572ed",
   "metadata": {},
   "outputs": [],
   "source": [
    "# Remove the last twelve rows as they contain NaN due to the shift operation\n",
    "X = X.iloc[ : ,:-12]\n",
    "y = y.iloc[:-12]"
   ]
  },
  {
   "cell_type": "code",
   "execution_count": 72,
   "id": "f10dc20f",
   "metadata": {},
   "outputs": [
    {
     "name": "stdout",
     "output_type": "stream",
     "text": [
      "Mean Squared Error: 0.00014295475727329554\n",
      "Mean Squared Error: 0.0005212134188250527\n",
      "Mean Squared Error: 0.0004230655633404388\n",
      "Mean Squared Error: 0.002174075274819267\n",
      "Mean Squared Error: 0.0013530517216812936\n"
     ]
    }
   ],
   "source": [
    "# Split the data into training and testing sets in a time series manner\n",
    "tscv = TimeSeriesSplit(n_splits=5)\n",
    "for train_index, test_index in tscv.split(X):\n",
    "    X_train, X_test = X.iloc[train_index], X.iloc[test_index]\n",
    "    y_train, y_test = y.iloc[train_index], y.iloc[test_index]\n",
    "\n",
    "    # Train a Random Forest model\n",
    "    model = RandomForestRegressor(n_estimators=100, random_state=42)\n",
    "    model_random_12 = model.fit(X_train, y_train)\n",
    "\n",
    "    # Evaluate the model\n",
    "    y_pred = model.predict(X_test)\n",
    "    mse = mean_squared_error(y_test, y_pred)\n",
    "    print(f\"Mean Squared Error: {mse}\")"
   ]
  },
  {
   "cell_type": "markdown",
   "id": "a38a842d",
   "metadata": {},
   "source": [
    "* Now the model can be used to forecast future inflation rates\n",
    "\n",
    "* For example, to predict the inflation rate for the next year given its predictors"
   ]
  },
  {
   "cell_type": "code",
   "execution_count": 73,
   "id": "7c8e2d0c",
   "metadata": {},
   "outputs": [
    {
     "name": "stdout",
     "output_type": "stream",
     "text": [
      "Predicted inflation rate for next year: 0.05513374417695809\n"
     ]
    }
   ],
   "source": [
    "next_year_predictors = X.iloc[-1].values.reshape(1, -1)\n",
    "next_year_inflation_rate = model_random_12.predict(next_year_predictors)\n",
    "print(f\"Predicted inflation rate for next year: {next_year_inflation_rate[0]}\")"
   ]
  },
  {
   "cell_type": "markdown",
   "id": "ac9fe092",
   "metadata": {},
   "source": [
    "# Gradient boosting method\n",
    "\n",
    "## For 1 month model"
   ]
  },
  {
   "cell_type": "code",
   "execution_count": 74,
   "id": "10e9244e",
   "metadata": {},
   "outputs": [],
   "source": [
    "import pandas as pd\n",
    "import numpy as np\n",
    "from sklearn.model_selection import TimeSeriesSplit\n",
    "from sklearn.ensemble import GradientBoostingRegressor\n",
    "from sklearn.metrics import mean_squared_error\n",
    "import math"
   ]
  },
  {
   "cell_type": "code",
   "execution_count": 75,
   "id": "d5824fab",
   "metadata": {},
   "outputs": [],
   "source": [
    "# Load the data\n",
    "url = \"https://github.com/zhentaoshi/Econ5821/raw/main/data_example/US_PCE_training.xlsx\"\n",
    "df = pd.read_excel(url, header=None)\n",
    "df = df.drop(df.columns[0], axis=1)\n",
    "df = df.T"
   ]
  },
  {
   "cell_type": "code",
   "execution_count": 76,
   "id": "1175e717",
   "metadata": {},
   "outputs": [],
   "source": [
    "# Compute the inflation rate\n",
    "df.iloc[:, 1] = (np.log(df.iloc[:, 1]) - np.log(df.iloc[:, 1].shift(1))) * 12"
   ]
  },
  {
   "cell_type": "code",
   "execution_count": 77,
   "id": "18f502ff",
   "metadata": {},
   "outputs": [],
   "source": [
    "# Transform the predictors into log difference\n",
    "for i in range(5, df.shape[1]):\n",
    "    df.iloc[:, i] = (np.log(df.iloc[:, i]) - np.log(df.iloc[:, i].shift(1))) * 12"
   ]
  },
  {
   "cell_type": "code",
   "execution_count": 78,
   "id": "25a384b5",
   "metadata": {},
   "outputs": [],
   "source": [
    "# Prepare the data for machine learning\n",
    "X = df.iloc[:, 5:].T\n",
    "y = df.iloc[:, 1]"
   ]
  },
  {
   "cell_type": "code",
   "execution_count": 79,
   "id": "13e55d6d",
   "metadata": {},
   "outputs": [],
   "source": [
    "# Remove the first row as it contains NaN due to the shift operation\n",
    "X = X.iloc[:, 1:]\n",
    "y = y.iloc[1:]"
   ]
  },
  {
   "cell_type": "code",
   "execution_count": 80,
   "id": "a4f9041a",
   "metadata": {},
   "outputs": [
    {
     "name": "stdout",
     "output_type": "stream",
     "text": [
      "Root Mean Squared Error: 0.014746565165124152\n",
      "Root Mean Squared Error: 0.017260012906776527\n",
      "Root Mean Squared Error: 0.028995959713480044\n",
      "Root Mean Squared Error: 0.02211631172250411\n",
      "Root Mean Squared Error: 0.0598908845442733\n"
     ]
    }
   ],
   "source": [
    "# Split the data into training and validation sets\n",
    "tscv = TimeSeriesSplit(n_splits=5)\n",
    "for train_index, test_index in tscv.split(X):\n",
    "    X_train, X_test = X.iloc[train_index], X.iloc[test_index]\n",
    "    y_train, y_test = y.iloc[train_index], y.iloc[test_index]\n",
    "\n",
    "    # Train a Gradient Boosting model\n",
    "    model = GradientBoostingRegressor()\n",
    "    model_grad_1 = model.fit(X_train, y_train)\n",
    "\n",
    "    # Evaluate the model\n",
    "    y_pred = model.predict(X_test)\n",
    "    mse = mean_squared_error(y_test, y_pred)\n",
    "    rmse = math.sqrt(mse)\n",
    "    print(f\"Root Mean Squared Error: {rmse}\")"
   ]
  },
  {
   "cell_type": "markdown",
   "id": "1c6351b7",
   "metadata": {},
   "source": [
    "* Now the model can be used to forecast future inflation rates\n",
    "\n",
    "* Use the model to forecast future inflation rates\n",
    "\n",
    "* For example, to predict the inflation rate for the next month given its predictors"
   ]
  },
  {
   "cell_type": "code",
   "execution_count": 81,
   "id": "71bca34a",
   "metadata": {},
   "outputs": [
    {
     "name": "stdout",
     "output_type": "stream",
     "text": [
      "Predicted inflation rate for next month: 0.03303559710015624\n"
     ]
    }
   ],
   "source": [
    "next_month_predictors = X.iloc[-1].values.reshape(1, -1)\n",
    "next_month_inflation_rate = model_grad_1.predict(next_month_predictors)\n",
    "print(f\"Predicted inflation rate for next month: {next_month_inflation_rate[0]}\")"
   ]
  },
  {
   "cell_type": "markdown",
   "id": "b7ac2f49",
   "metadata": {},
   "source": [
    "## For 3 months model"
   ]
  },
  {
   "cell_type": "code",
   "execution_count": 82,
   "id": "cfe51e32",
   "metadata": {},
   "outputs": [],
   "source": [
    "# Load the data\n",
    "url = \"https://github.com/zhentaoshi/Econ5821/raw/main/data_example/US_PCE_training.xlsx\"\n",
    "df = pd.read_excel(url, header=None)\n",
    "df = df.drop(df.columns[0], axis=1)\n",
    "df = df.T"
   ]
  },
  {
   "cell_type": "code",
   "execution_count": 83,
   "id": "576f1480",
   "metadata": {},
   "outputs": [],
   "source": [
    "# Compute the inflation rate\n",
    "df.iloc[:, 1] = (np.log(df.iloc[:, 1]) - np.log(df.iloc[:, 1].shift(1))) * 12"
   ]
  },
  {
   "cell_type": "code",
   "execution_count": 84,
   "id": "4705ffea",
   "metadata": {},
   "outputs": [],
   "source": [
    "# Transform the predictors into log difference\n",
    "for i in range(5, df.shape[1]):\n",
    "    df.iloc[:, i] = (np.log(df.iloc[:, i]) - np.log(df.iloc[:, i].shift(1))) * 12"
   ]
  },
  {
   "cell_type": "code",
   "execution_count": 85,
   "id": "bc3dc23a",
   "metadata": {},
   "outputs": [],
   "source": [
    "# Prepare the data for machine learning\n",
    "X = df.iloc[:, 5:].T\n",
    "y = df.iloc[:, 1]"
   ]
  },
  {
   "cell_type": "code",
   "execution_count": 86,
   "id": "f58a07d6",
   "metadata": {},
   "outputs": [],
   "source": [
    "# Shift y 3 months ahead for 3-month-ahead forecast\n",
    "y = y.shift(-3)"
   ]
  },
  {
   "cell_type": "code",
   "execution_count": 87,
   "id": "2c0ee84b",
   "metadata": {},
   "outputs": [],
   "source": [
    "# Remove the first row as it contains NaN due to the shift operation\n",
    "X = X.iloc[:, 1:-3]\n",
    "y = y.iloc[1:-3]"
   ]
  },
  {
   "cell_type": "code",
   "execution_count": 88,
   "id": "98547c02",
   "metadata": {},
   "outputs": [
    {
     "name": "stdout",
     "output_type": "stream",
     "text": [
      "Root Mean Squared Error: 0.017246666954109903\n",
      "Root Mean Squared Error: 0.017991288309156105\n",
      "Root Mean Squared Error: 0.025163674863818916\n",
      "Root Mean Squared Error: 0.02295597026014373\n",
      "Root Mean Squared Error: 0.054865972810948904\n"
     ]
    }
   ],
   "source": [
    "# Split the data into training and validation sets\n",
    "tscv = TimeSeriesSplit(n_splits=5)\n",
    "for train_index, test_index in tscv.split(X):\n",
    "    X_train, X_test = X.iloc[train_index], X.iloc[test_index]\n",
    "    y_train, y_test = y.iloc[train_index], y.iloc[test_index]\n",
    "\n",
    "    # Train a Gradient Boosting model\n",
    "    model = GradientBoostingRegressor()\n",
    "    model_grad_3 = model.fit(X_train, y_train)\n",
    "\n",
    "    # Evaluate the model\n",
    "    y_pred = model.predict(X_test)\n",
    "    mse = mean_squared_error(y_test, y_pred)\n",
    "    rmse = math.sqrt(mse)\n",
    "    print(f\"Root Mean Squared Error: {rmse}\")"
   ]
  },
  {
   "cell_type": "markdown",
   "id": "3fcbc7dc",
   "metadata": {},
   "source": [
    "* Now the model can be used to forecast future inflation rates\n",
    "\n",
    "* Use the model to forecast future inflation rates\n",
    "\n",
    "* For example, to predict the inflation rate for the next quarter given its predictors"
   ]
  },
  {
   "cell_type": "code",
   "execution_count": 89,
   "id": "89a01681",
   "metadata": {},
   "outputs": [
    {
     "name": "stdout",
     "output_type": "stream",
     "text": [
      "Predicted inflation rate for next quarter: 0.041703191529297\n"
     ]
    }
   ],
   "source": [
    "next_quarter_predictors = X.iloc[-1].values.reshape(1, -1)\n",
    "next_quarter_inflation_rate = model_grad_3.predict(next_quarter_predictors)\n",
    "print(f\"Predicted inflation rate for next quarter: {next_quarter_inflation_rate[0]}\")"
   ]
  },
  {
   "cell_type": "markdown",
   "id": "408bf9d5",
   "metadata": {},
   "source": [
    "## For 12 months model"
   ]
  },
  {
   "cell_type": "code",
   "execution_count": 90,
   "id": "82930de3",
   "metadata": {},
   "outputs": [],
   "source": [
    "# Shift y 12 months ahead for 12-month-ahead forecast\n",
    "y = y.shift(-12)"
   ]
  },
  {
   "cell_type": "code",
   "execution_count": 91,
   "id": "3074df0e",
   "metadata": {},
   "outputs": [],
   "source": [
    "# Remove the first row as it contains NaN due to the shift operation\n",
    "X = X.iloc[:, 1:-12]\n",
    "y = y.iloc[1:-12]"
   ]
  },
  {
   "cell_type": "code",
   "execution_count": 92,
   "id": "ec32763b",
   "metadata": {},
   "outputs": [
    {
     "name": "stdout",
     "output_type": "stream",
     "text": [
      "Root Mean Squared Error: 0.014350302205542695\n",
      "Root Mean Squared Error: 0.02371181445740087\n",
      "Root Mean Squared Error: 0.0186450003403914\n",
      "Root Mean Squared Error: 0.04578772038771641\n",
      "Root Mean Squared Error: 0.03310014163419241\n"
     ]
    }
   ],
   "source": [
    "# Split the data into training and validation sets\n",
    "tscv = TimeSeriesSplit(n_splits=5)\n",
    "for train_index, test_index in tscv.split(X):\n",
    "    X_train, X_test = X.iloc[train_index], X.iloc[test_index]\n",
    "    y_train, y_test = y.iloc[train_index], y.iloc[test_index]\n",
    "\n",
    "    # Train a Gradient Boosting model\n",
    "    model = GradientBoostingRegressor()\n",
    "    model_grad_12 = model.fit(X_train, y_train)\n",
    "\n",
    "    # Evaluate the model\n",
    "    y_pred = model.predict(X_test)\n",
    "    mse = mean_squared_error(y_test, y_pred)\n",
    "    rmse = math.sqrt(mse)\n",
    "    print(f\"Root Mean Squared Error: {rmse}\")"
   ]
  },
  {
   "cell_type": "markdown",
   "id": "e28ccac7",
   "metadata": {},
   "source": [
    "* Now the model can be used to forecast future inflation rates\n",
    "\n",
    "* Use the model to forecast future inflation rates\n",
    "\n",
    "* For example, to predict the inflation rate for the next year given its predictors"
   ]
  },
  {
   "cell_type": "code",
   "execution_count": 93,
   "id": "d1b2c646",
   "metadata": {},
   "outputs": [
    {
     "name": "stdout",
     "output_type": "stream",
     "text": [
      "Predicted inflation rate for next year: 0.08442827734863777\n"
     ]
    }
   ],
   "source": [
    "next_year_predictors = X.iloc[-1].values.reshape(1, -1)\n",
    "next_year_inflation_rate = model_grad_12.predict(next_year_predictors)\n",
    "print(f\"Predicted inflation rate for next year: {next_year_inflation_rate[0]}\")"
   ]
  },
  {
   "cell_type": "code",
   "execution_count": null,
   "id": "c2d2cf7e",
   "metadata": {},
   "outputs": [],
   "source": []
  }
 ],
 "metadata": {
  "kernelspec": {
   "display_name": "Python 3 (ipykernel)",
   "language": "python",
   "name": "python3"
  },
  "language_info": {
   "codemirror_mode": {
    "name": "ipython",
    "version": 3
   },
   "file_extension": ".py",
   "mimetype": "text/x-python",
   "name": "python",
   "nbconvert_exporter": "python",
   "pygments_lexer": "ipython3",
   "version": "3.11.5"
  }
 },
 "nbformat": 4,
 "nbformat_minor": 5
}
